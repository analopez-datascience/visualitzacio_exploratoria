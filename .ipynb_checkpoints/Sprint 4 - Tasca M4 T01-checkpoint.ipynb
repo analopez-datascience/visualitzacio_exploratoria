{
 "cells": [
  {
   "cell_type": "markdown",
   "id": "e8404c1d",
   "metadata": {},
   "source": [
    "\n",
    "\n",
    "# Exercici 1\n",
    "Descarrega el dataset adjunt preu lloguer per trimestre i barri.csv extret de la web OpenDataBCN i resumeix-lo estadísticament i gràficament.\n",
    "\n",
    "Crea almenys una visualització per:\n",
    "* 1- Una variable categòrica (Districte o Barri)\n",
    "* 2- Una variable numèrica (Preu)\n",
    "* 3- Una variable numèrica i una categòrica (Districte i Preu)\n",
    "* 4- Dues variables numèriques (Any o Trimestre i Preu)\n",
    "* 5- Tres variables (Barri o Districte, Trimestre i Preu)\n"
   ]
  },
  {
   "cell_type": "code",
   "execution_count": 1,
   "id": "8578466e",
   "metadata": {},
   "outputs": [],
   "source": [
    "#importamos las librerias que pudieramos necesitar\n",
    "\n",
    "import numpy as np\n",
    "import pandas as pd\n",
    "import matplotlib.pyplot as plt\n",
    "import seaborn as sns"
   ]
  },
  {
   "cell_type": "code",
   "execution_count": 2,
   "id": "88cead23",
   "metadata": {},
   "outputs": [
    {
     "data": {
      "text/html": [
       "<div>\n",
       "<style scoped>\n",
       "    .dataframe tbody tr th:only-of-type {\n",
       "        vertical-align: middle;\n",
       "    }\n",
       "\n",
       "    .dataframe tbody tr th {\n",
       "        vertical-align: top;\n",
       "    }\n",
       "\n",
       "    .dataframe thead th {\n",
       "        text-align: right;\n",
       "    }\n",
       "</style>\n",
       "<table border=\"1\" class=\"dataframe\">\n",
       "  <thead>\n",
       "    <tr style=\"text-align: right;\">\n",
       "      <th></th>\n",
       "      <th>Any</th>\n",
       "      <th>Trimestre</th>\n",
       "      <th>Codi_Districte</th>\n",
       "      <th>Nom_Districte</th>\n",
       "      <th>Codi_Barri</th>\n",
       "      <th>Nom_Barri</th>\n",
       "      <th>Lloguer_mitja</th>\n",
       "      <th>Preu</th>\n",
       "    </tr>\n",
       "  </thead>\n",
       "  <tbody>\n",
       "    <tr>\n",
       "      <th>0</th>\n",
       "      <td>2021</td>\n",
       "      <td>1</td>\n",
       "      <td>1</td>\n",
       "      <td>Ciutat Vella</td>\n",
       "      <td>1</td>\n",
       "      <td>el Raval</td>\n",
       "      <td>Lloguer mitjà mensual (Euros/mes)</td>\n",
       "      <td>759.2</td>\n",
       "    </tr>\n",
       "    <tr>\n",
       "      <th>1</th>\n",
       "      <td>2021</td>\n",
       "      <td>1</td>\n",
       "      <td>1</td>\n",
       "      <td>Ciutat Vella</td>\n",
       "      <td>2</td>\n",
       "      <td>el Barri Gòtic</td>\n",
       "      <td>Lloguer mitjà mensual (Euros/mes)</td>\n",
       "      <td>929.6</td>\n",
       "    </tr>\n",
       "    <tr>\n",
       "      <th>2</th>\n",
       "      <td>2021</td>\n",
       "      <td>1</td>\n",
       "      <td>1</td>\n",
       "      <td>Ciutat Vella</td>\n",
       "      <td>3</td>\n",
       "      <td>la Barceloneta</td>\n",
       "      <td>Lloguer mitjà mensual (Euros/mes)</td>\n",
       "      <td>808.9</td>\n",
       "    </tr>\n",
       "    <tr>\n",
       "      <th>3</th>\n",
       "      <td>2021</td>\n",
       "      <td>1</td>\n",
       "      <td>1</td>\n",
       "      <td>Ciutat Vella</td>\n",
       "      <td>4</td>\n",
       "      <td>Sant Pere, Santa Caterina i la Ribera</td>\n",
       "      <td>Lloguer mitjà mensual (Euros/mes)</td>\n",
       "      <td>879.4</td>\n",
       "    </tr>\n",
       "    <tr>\n",
       "      <th>4</th>\n",
       "      <td>2021</td>\n",
       "      <td>1</td>\n",
       "      <td>2</td>\n",
       "      <td>Eixample</td>\n",
       "      <td>5</td>\n",
       "      <td>el Fort Pienc</td>\n",
       "      <td>Lloguer mitjà mensual (Euros/mes)</td>\n",
       "      <td>918.0</td>\n",
       "    </tr>\n",
       "    <tr>\n",
       "      <th>...</th>\n",
       "      <td>...</td>\n",
       "      <td>...</td>\n",
       "      <td>...</td>\n",
       "      <td>...</td>\n",
       "      <td>...</td>\n",
       "      <td>...</td>\n",
       "      <td>...</td>\n",
       "      <td>...</td>\n",
       "    </tr>\n",
       "    <tr>\n",
       "      <th>579</th>\n",
       "      <td>2021</td>\n",
       "      <td>4</td>\n",
       "      <td>10</td>\n",
       "      <td>Sant Martí</td>\n",
       "      <td>69</td>\n",
       "      <td>Diagonal Mar i el Front Marítim del Poblenou</td>\n",
       "      <td>Lloguer mitjà per superfície (Euros/m2 mes)</td>\n",
       "      <td>15.2</td>\n",
       "    </tr>\n",
       "    <tr>\n",
       "      <th>580</th>\n",
       "      <td>2021</td>\n",
       "      <td>4</td>\n",
       "      <td>10</td>\n",
       "      <td>Sant Martí</td>\n",
       "      <td>70</td>\n",
       "      <td>el Besòs i el Maresme</td>\n",
       "      <td>Lloguer mitjà per superfície (Euros/m2 mes)</td>\n",
       "      <td>10.8</td>\n",
       "    </tr>\n",
       "    <tr>\n",
       "      <th>581</th>\n",
       "      <td>2021</td>\n",
       "      <td>4</td>\n",
       "      <td>10</td>\n",
       "      <td>Sant Martí</td>\n",
       "      <td>71</td>\n",
       "      <td>Provençals del Poblenou</td>\n",
       "      <td>Lloguer mitjà per superfície (Euros/m2 mes)</td>\n",
       "      <td>13.8</td>\n",
       "    </tr>\n",
       "    <tr>\n",
       "      <th>582</th>\n",
       "      <td>2021</td>\n",
       "      <td>4</td>\n",
       "      <td>10</td>\n",
       "      <td>Sant Martí</td>\n",
       "      <td>72</td>\n",
       "      <td>Sant Martí de Provençals</td>\n",
       "      <td>Lloguer mitjà per superfície (Euros/m2 mes)</td>\n",
       "      <td>11.7</td>\n",
       "    </tr>\n",
       "    <tr>\n",
       "      <th>583</th>\n",
       "      <td>2021</td>\n",
       "      <td>4</td>\n",
       "      <td>10</td>\n",
       "      <td>Sant Martí</td>\n",
       "      <td>73</td>\n",
       "      <td>la Verneda i la Pau</td>\n",
       "      <td>Lloguer mitjà per superfície (Euros/m2 mes)</td>\n",
       "      <td>11.3</td>\n",
       "    </tr>\n",
       "  </tbody>\n",
       "</table>\n",
       "<p>584 rows × 8 columns</p>\n",
       "</div>"
      ],
      "text/plain": [
       "      Any  Trimestre  Codi_Districte Nom_Districte  Codi_Barri  \\\n",
       "0    2021          1               1  Ciutat Vella           1   \n",
       "1    2021          1               1  Ciutat Vella           2   \n",
       "2    2021          1               1  Ciutat Vella           3   \n",
       "3    2021          1               1  Ciutat Vella           4   \n",
       "4    2021          1               2      Eixample           5   \n",
       "..    ...        ...             ...           ...         ...   \n",
       "579  2021          4              10    Sant Martí          69   \n",
       "580  2021          4              10    Sant Martí          70   \n",
       "581  2021          4              10    Sant Martí          71   \n",
       "582  2021          4              10    Sant Martí          72   \n",
       "583  2021          4              10    Sant Martí          73   \n",
       "\n",
       "                                        Nom_Barri  \\\n",
       "0                                        el Raval   \n",
       "1                                  el Barri Gòtic   \n",
       "2                                  la Barceloneta   \n",
       "3           Sant Pere, Santa Caterina i la Ribera   \n",
       "4                                   el Fort Pienc   \n",
       "..                                            ...   \n",
       "579  Diagonal Mar i el Front Marítim del Poblenou   \n",
       "580                         el Besòs i el Maresme   \n",
       "581                       Provençals del Poblenou   \n",
       "582                      Sant Martí de Provençals   \n",
       "583                           la Verneda i la Pau   \n",
       "\n",
       "                                   Lloguer_mitja   Preu  \n",
       "0              Lloguer mitjà mensual (Euros/mes)  759.2  \n",
       "1              Lloguer mitjà mensual (Euros/mes)  929.6  \n",
       "2              Lloguer mitjà mensual (Euros/mes)  808.9  \n",
       "3              Lloguer mitjà mensual (Euros/mes)  879.4  \n",
       "4              Lloguer mitjà mensual (Euros/mes)  918.0  \n",
       "..                                           ...    ...  \n",
       "579  Lloguer mitjà per superfície (Euros/m2 mes)   15.2  \n",
       "580  Lloguer mitjà per superfície (Euros/m2 mes)   10.8  \n",
       "581  Lloguer mitjà per superfície (Euros/m2 mes)   13.8  \n",
       "582  Lloguer mitjà per superfície (Euros/m2 mes)   11.7  \n",
       "583  Lloguer mitjà per superfície (Euros/m2 mes)   11.3  \n",
       "\n",
       "[584 rows x 8 columns]"
      ]
     },
     "execution_count": 2,
     "metadata": {},
     "output_type": "execute_result"
    }
   ],
   "source": [
    "#volcamos el data set para extraer el data frame sobre el que trabajaremos, \n",
    "#previamente hemos guardado el archivo csv en el mismo repositorio del archivo presente.\n",
    "\n",
    "df_preulloguer = pd.read_csv('./preu lloguer per trimestre i barri.csv', encoding='utf-8', engine='python')\n",
    "df_preulloguer"
   ]
  },
  {
   "cell_type": "markdown",
   "id": "8cd77f26",
   "metadata": {},
   "source": [
    "# **1º Analizamos el conjunto de datos**"
   ]
  },
  {
   "cell_type": "code",
   "execution_count": 3,
   "id": "29a87727",
   "metadata": {},
   "outputs": [
    {
     "data": {
      "text/plain": [
       "(584, 8)"
      ]
     },
     "execution_count": 3,
     "metadata": {},
     "output_type": "execute_result"
    }
   ],
   "source": [
    "df_preulloguer.shape"
   ]
  },
  {
   "cell_type": "code",
   "execution_count": 4,
   "id": "24250a91",
   "metadata": {},
   "outputs": [
    {
     "data": {
      "text/plain": [
       "2"
      ]
     },
     "execution_count": 4,
     "metadata": {},
     "output_type": "execute_result"
    }
   ],
   "source": [
    "df_preulloguer.ndim"
   ]
  },
  {
   "cell_type": "code",
   "execution_count": 5,
   "id": "19b71061",
   "metadata": {},
   "outputs": [
    {
     "data": {
      "text/plain": [
       "4672"
      ]
     },
     "execution_count": 5,
     "metadata": {},
     "output_type": "execute_result"
    }
   ],
   "source": [
    "df_preulloguer.size"
   ]
  },
  {
   "cell_type": "code",
   "execution_count": 6,
   "id": "f7b513ae",
   "metadata": {},
   "outputs": [
    {
     "data": {
      "text/plain": [
       "Any                int64\n",
       "Trimestre          int64\n",
       "Codi_Districte     int64\n",
       "Nom_Districte     object\n",
       "Codi_Barri         int64\n",
       "Nom_Barri         object\n",
       "Lloguer_mitja     object\n",
       "Preu              object\n",
       "dtype: object"
      ]
     },
     "execution_count": 6,
     "metadata": {},
     "output_type": "execute_result"
    }
   ],
   "source": [
    "df_preulloguer.dtypes"
   ]
  },
  {
   "cell_type": "code",
   "execution_count": 7,
   "id": "c0e4bfc1",
   "metadata": {},
   "outputs": [
    {
     "data": {
      "text/plain": [
       "Index(['Any', 'Trimestre', 'Codi_Districte', 'Nom_Districte', 'Codi_Barri',\n",
       "       'Nom_Barri', 'Lloguer_mitja', 'Preu'],\n",
       "      dtype='object')"
      ]
     },
     "execution_count": 7,
     "metadata": {},
     "output_type": "execute_result"
    }
   ],
   "source": [
    "df_preulloguer.columns"
   ]
  },
  {
   "cell_type": "code",
   "execution_count": 8,
   "id": "ce9efbe0",
   "metadata": {},
   "outputs": [
    {
     "data": {
      "text/html": [
       "<div>\n",
       "<style scoped>\n",
       "    .dataframe tbody tr th:only-of-type {\n",
       "        vertical-align: middle;\n",
       "    }\n",
       "\n",
       "    .dataframe tbody tr th {\n",
       "        vertical-align: top;\n",
       "    }\n",
       "\n",
       "    .dataframe thead th {\n",
       "        text-align: right;\n",
       "    }\n",
       "</style>\n",
       "<table border=\"1\" class=\"dataframe\">\n",
       "  <thead>\n",
       "    <tr style=\"text-align: right;\">\n",
       "      <th></th>\n",
       "      <th>Any</th>\n",
       "      <th>Trimestre</th>\n",
       "      <th>Codi_Districte</th>\n",
       "      <th>Nom_Districte</th>\n",
       "      <th>Codi_Barri</th>\n",
       "      <th>Nom_Barri</th>\n",
       "      <th>Lloguer_mitja</th>\n",
       "      <th>Preu</th>\n",
       "    </tr>\n",
       "  </thead>\n",
       "  <tbody>\n",
       "    <tr>\n",
       "      <th>0</th>\n",
       "      <td>False</td>\n",
       "      <td>False</td>\n",
       "      <td>False</td>\n",
       "      <td>False</td>\n",
       "      <td>False</td>\n",
       "      <td>False</td>\n",
       "      <td>False</td>\n",
       "      <td>False</td>\n",
       "    </tr>\n",
       "    <tr>\n",
       "      <th>1</th>\n",
       "      <td>False</td>\n",
       "      <td>False</td>\n",
       "      <td>False</td>\n",
       "      <td>False</td>\n",
       "      <td>False</td>\n",
       "      <td>False</td>\n",
       "      <td>False</td>\n",
       "      <td>False</td>\n",
       "    </tr>\n",
       "    <tr>\n",
       "      <th>2</th>\n",
       "      <td>False</td>\n",
       "      <td>False</td>\n",
       "      <td>False</td>\n",
       "      <td>False</td>\n",
       "      <td>False</td>\n",
       "      <td>False</td>\n",
       "      <td>False</td>\n",
       "      <td>False</td>\n",
       "    </tr>\n",
       "    <tr>\n",
       "      <th>3</th>\n",
       "      <td>False</td>\n",
       "      <td>False</td>\n",
       "      <td>False</td>\n",
       "      <td>False</td>\n",
       "      <td>False</td>\n",
       "      <td>False</td>\n",
       "      <td>False</td>\n",
       "      <td>False</td>\n",
       "    </tr>\n",
       "    <tr>\n",
       "      <th>4</th>\n",
       "      <td>False</td>\n",
       "      <td>False</td>\n",
       "      <td>False</td>\n",
       "      <td>False</td>\n",
       "      <td>False</td>\n",
       "      <td>False</td>\n",
       "      <td>False</td>\n",
       "      <td>False</td>\n",
       "    </tr>\n",
       "    <tr>\n",
       "      <th>...</th>\n",
       "      <td>...</td>\n",
       "      <td>...</td>\n",
       "      <td>...</td>\n",
       "      <td>...</td>\n",
       "      <td>...</td>\n",
       "      <td>...</td>\n",
       "      <td>...</td>\n",
       "      <td>...</td>\n",
       "    </tr>\n",
       "    <tr>\n",
       "      <th>579</th>\n",
       "      <td>False</td>\n",
       "      <td>False</td>\n",
       "      <td>False</td>\n",
       "      <td>False</td>\n",
       "      <td>False</td>\n",
       "      <td>False</td>\n",
       "      <td>False</td>\n",
       "      <td>False</td>\n",
       "    </tr>\n",
       "    <tr>\n",
       "      <th>580</th>\n",
       "      <td>False</td>\n",
       "      <td>False</td>\n",
       "      <td>False</td>\n",
       "      <td>False</td>\n",
       "      <td>False</td>\n",
       "      <td>False</td>\n",
       "      <td>False</td>\n",
       "      <td>False</td>\n",
       "    </tr>\n",
       "    <tr>\n",
       "      <th>581</th>\n",
       "      <td>False</td>\n",
       "      <td>False</td>\n",
       "      <td>False</td>\n",
       "      <td>False</td>\n",
       "      <td>False</td>\n",
       "      <td>False</td>\n",
       "      <td>False</td>\n",
       "      <td>False</td>\n",
       "    </tr>\n",
       "    <tr>\n",
       "      <th>582</th>\n",
       "      <td>False</td>\n",
       "      <td>False</td>\n",
       "      <td>False</td>\n",
       "      <td>False</td>\n",
       "      <td>False</td>\n",
       "      <td>False</td>\n",
       "      <td>False</td>\n",
       "      <td>False</td>\n",
       "    </tr>\n",
       "    <tr>\n",
       "      <th>583</th>\n",
       "      <td>False</td>\n",
       "      <td>False</td>\n",
       "      <td>False</td>\n",
       "      <td>False</td>\n",
       "      <td>False</td>\n",
       "      <td>False</td>\n",
       "      <td>False</td>\n",
       "      <td>False</td>\n",
       "    </tr>\n",
       "  </tbody>\n",
       "</table>\n",
       "<p>584 rows × 8 columns</p>\n",
       "</div>"
      ],
      "text/plain": [
       "       Any  Trimestre  Codi_Districte  Nom_Districte  Codi_Barri  Nom_Barri  \\\n",
       "0    False      False           False          False       False      False   \n",
       "1    False      False           False          False       False      False   \n",
       "2    False      False           False          False       False      False   \n",
       "3    False      False           False          False       False      False   \n",
       "4    False      False           False          False       False      False   \n",
       "..     ...        ...             ...            ...         ...        ...   \n",
       "579  False      False           False          False       False      False   \n",
       "580  False      False           False          False       False      False   \n",
       "581  False      False           False          False       False      False   \n",
       "582  False      False           False          False       False      False   \n",
       "583  False      False           False          False       False      False   \n",
       "\n",
       "     Lloguer_mitja   Preu  \n",
       "0            False  False  \n",
       "1            False  False  \n",
       "2            False  False  \n",
       "3            False  False  \n",
       "4            False  False  \n",
       "..             ...    ...  \n",
       "579          False  False  \n",
       "580          False  False  \n",
       "581          False  False  \n",
       "582          False  False  \n",
       "583          False  False  \n",
       "\n",
       "[584 rows x 8 columns]"
      ]
     },
     "execution_count": 8,
     "metadata": {},
     "output_type": "execute_result"
    }
   ],
   "source": [
    "#Comprobamos si nuestro dataframe tiene nulos.\n",
    "df_preulloguer.isnull()"
   ]
  },
  {
   "cell_type": "code",
   "execution_count": 9,
   "id": "6fc0770b",
   "metadata": {},
   "outputs": [
    {
     "data": {
      "text/plain": [
       "Any               0\n",
       "Trimestre         0\n",
       "Codi_Districte    0\n",
       "Nom_Districte     0\n",
       "Codi_Barri        0\n",
       "Nom_Barri         0\n",
       "Lloguer_mitja     0\n",
       "Preu              0\n",
       "dtype: int64"
      ]
     },
     "execution_count": 9,
     "metadata": {},
     "output_type": "execute_result"
    }
   ],
   "source": [
    "#Aunque en este caso no aplicaría,añadiendo el .sum(), podemos comprobar que variable acumula los nulos.\n",
    "df_preulloguer.isnull().sum()"
   ]
  },
  {
   "cell_type": "code",
   "execution_count": 10,
   "id": "4092b0e7",
   "metadata": {},
   "outputs": [
    {
     "name": "stdout",
     "output_type": "stream",
     "text": [
      "<class 'pandas.core.frame.DataFrame'>\n",
      "RangeIndex: 584 entries, 0 to 583\n",
      "Data columns (total 8 columns):\n",
      " #   Column          Non-Null Count  Dtype \n",
      "---  ------          --------------  ----- \n",
      " 0   Any             584 non-null    int64 \n",
      " 1   Trimestre       584 non-null    int64 \n",
      " 2   Codi_Districte  584 non-null    int64 \n",
      " 3   Nom_Districte   584 non-null    object\n",
      " 4   Codi_Barri      584 non-null    int64 \n",
      " 5   Nom_Barri       584 non-null    object\n",
      " 6   Lloguer_mitja   584 non-null    object\n",
      " 7   Preu            584 non-null    object\n",
      "dtypes: int64(4), object(4)\n",
      "memory usage: 36.6+ KB\n"
     ]
    }
   ],
   "source": [
    "#Algunas de las operaciones anteriores se pueden resumir con el método .info\n",
    "# que nos da una visión general de lo que contiene nuestro dataframe\n",
    "df_preulloguer.info()"
   ]
  },
  {
   "cell_type": "code",
   "execution_count": 11,
   "id": "162bad49",
   "metadata": {},
   "outputs": [
    {
     "data": {
      "text/plain": [
       "0      759.2\n",
       "1      929.6\n",
       "2      808.9\n",
       "3      879.4\n",
       "4      918.0\n",
       "5      887.1\n",
       "6     1176.7\n",
       "7     1040.2\n",
       "8      964.0\n",
       "9      898.7\n",
       "10     781.6\n",
       "11        --\n",
       "12     810.6\n",
       "13     799.5\n",
       "14     778.4\n",
       "15     807.6\n",
       "16     788.1\n",
       "17     829.1\n",
       "18     990.3\n",
       "19     927.3\n",
       "20    1598.2\n",
       "21    1531.7\n",
       "22    1263.9\n",
       "23    1578.0\n",
       "24    1264.8\n",
       "25    1294.9\n",
       "26     990.1\n",
       "27     959.0\n",
       "28     745.4\n",
       "29     859.1\n",
       "30     910.6\n",
       "31     865.3\n",
       "32     817.3\n",
       "33     741.1\n",
       "34     791.7\n",
       "35     795.0\n",
       "36     668.8\n",
       "37     716.1\n",
       "38     700.5\n",
       "39     741.4\n",
       "40     827.0\n",
       "41        --\n",
       "42     747.4\n",
       "43     736.5\n",
       "44     707.2\n",
       "45     687.2\n",
       "46        --\n",
       "47     691.6\n",
       "48     762.5\n",
       "49     643.6\n",
       "Name: Preu, dtype: object"
      ]
     },
     "execution_count": 11,
     "metadata": {},
     "output_type": "execute_result"
    }
   ],
   "source": [
    "#Preu aparece como object y además tiene datos faltantes\n",
    "df_preulloguer['Preu'][:50]"
   ]
  },
  {
   "cell_type": "code",
   "execution_count": 12,
   "id": "96d7afe1",
   "metadata": {},
   "outputs": [
    {
     "data": {
      "text/plain": [
       "44"
      ]
     },
     "execution_count": 12,
     "metadata": {},
     "output_type": "execute_result"
    }
   ],
   "source": [
    "#Estos datos faltantes aparecen en 44 filas\n",
    "df_preulloguer['Preu'].value_counts()['--']"
   ]
  },
  {
   "cell_type": "code",
   "execution_count": 13,
   "id": "995acfc9",
   "metadata": {},
   "outputs": [
    {
     "data": {
      "text/plain": [
       "False    540\n",
       "True      44\n",
       "Name: Preu, dtype: int64"
      ]
     },
     "execution_count": 13,
     "metadata": {},
     "output_type": "execute_result"
    }
   ],
   "source": [
    "#Localizando los datos faltantes\n",
    "df_preulloguer.Preu.str.contains('--').value_counts()"
   ]
  },
  {
   "cell_type": "code",
   "execution_count": 14,
   "id": "a8492d3a",
   "metadata": {},
   "outputs": [],
   "source": [
    "#Pasamos los datos faltantes en valores nulos\n",
    "df_preulloguer = df_preulloguer.replace({'--':np.nan})"
   ]
  },
  {
   "cell_type": "code",
   "execution_count": 15,
   "id": "b3d3b445",
   "metadata": {},
   "outputs": [],
   "source": [
    "#Convertimos la columna preu que es tipo object en tipo float\n",
    "df_preulloguer['Preu'] = df_preulloguer['Preu'].astype('float64')"
   ]
  },
  {
   "cell_type": "code",
   "execution_count": 16,
   "id": "7bc0f42a",
   "metadata": {},
   "outputs": [
    {
     "name": "stdout",
     "output_type": "stream",
     "text": [
      "<class 'pandas.core.frame.DataFrame'>\n",
      "RangeIndex: 584 entries, 0 to 583\n",
      "Data columns (total 8 columns):\n",
      " #   Column          Non-Null Count  Dtype  \n",
      "---  ------          --------------  -----  \n",
      " 0   Any             584 non-null    int64  \n",
      " 1   Trimestre       584 non-null    int64  \n",
      " 2   Codi_Districte  584 non-null    int64  \n",
      " 3   Nom_Districte   584 non-null    object \n",
      " 4   Codi_Barri      584 non-null    int64  \n",
      " 5   Nom_Barri       584 non-null    object \n",
      " 6   Lloguer_mitja   584 non-null    object \n",
      " 7   Preu            540 non-null    float64\n",
      "dtypes: float64(1), int64(4), object(3)\n",
      "memory usage: 36.6+ KB\n"
     ]
    }
   ],
   "source": [
    "df_preulloguer.info()"
   ]
  },
  {
   "cell_type": "code",
   "execution_count": 17,
   "id": "ab3aed6c",
   "metadata": {},
   "outputs": [
    {
     "name": "stdout",
     "output_type": "stream",
     "text": [
      "int64 int64 int64 category int64 category category float64\n"
     ]
    }
   ],
   "source": [
    "#Convertimos los tipo object en variables categoricas\n",
    "df_preulloguer['Nom_Districte'] = df_preulloguer['Nom_Districte'].astype('category')\n",
    "df_preulloguer['Nom_Barri']=df_preulloguer['Nom_Barri'].astype('category') \n",
    "df_preulloguer['Lloguer_mitja']=df_preulloguer['Lloguer_mitja'].astype('category') \n",
    " \n",
    "print(*df_preulloguer.dtypes)"
   ]
  },
  {
   "cell_type": "markdown",
   "id": "df665568",
   "metadata": {},
   "source": [
    "# **2º Resumen estadístico**"
   ]
  },
  {
   "cell_type": "code",
   "execution_count": 18,
   "id": "9e2fcabe",
   "metadata": {},
   "outputs": [
    {
     "data": {
      "text/html": [
       "<div>\n",
       "<style scoped>\n",
       "    .dataframe tbody tr th:only-of-type {\n",
       "        vertical-align: middle;\n",
       "    }\n",
       "\n",
       "    .dataframe tbody tr th {\n",
       "        vertical-align: top;\n",
       "    }\n",
       "\n",
       "    .dataframe thead th {\n",
       "        text-align: right;\n",
       "    }\n",
       "</style>\n",
       "<table border=\"1\" class=\"dataframe\">\n",
       "  <thead>\n",
       "    <tr style=\"text-align: right;\">\n",
       "      <th></th>\n",
       "      <th>Nom_Districte</th>\n",
       "      <th>Nom_Barri</th>\n",
       "      <th>Lloguer_mitja</th>\n",
       "    </tr>\n",
       "  </thead>\n",
       "  <tbody>\n",
       "    <tr>\n",
       "      <th>count</th>\n",
       "      <td>584</td>\n",
       "      <td>584</td>\n",
       "      <td>584</td>\n",
       "    </tr>\n",
       "    <tr>\n",
       "      <th>unique</th>\n",
       "      <td>10</td>\n",
       "      <td>73</td>\n",
       "      <td>2</td>\n",
       "    </tr>\n",
       "    <tr>\n",
       "      <th>top</th>\n",
       "      <td>Nou Barris</td>\n",
       "      <td>Baró de Viver</td>\n",
       "      <td>Lloguer mitjà mensual (Euros/mes)</td>\n",
       "    </tr>\n",
       "    <tr>\n",
       "      <th>freq</th>\n",
       "      <td>104</td>\n",
       "      <td>8</td>\n",
       "      <td>292</td>\n",
       "    </tr>\n",
       "  </tbody>\n",
       "</table>\n",
       "</div>"
      ],
      "text/plain": [
       "       Nom_Districte      Nom_Barri                      Lloguer_mitja\n",
       "count            584            584                                584\n",
       "unique            10             73                                  2\n",
       "top       Nou Barris  Baró de Viver  Lloguer mitjà mensual (Euros/mes)\n",
       "freq             104              8                                292"
      ]
     },
     "execution_count": 18,
     "metadata": {},
     "output_type": "execute_result"
    }
   ],
   "source": [
    "df_preulloguer.describe(include=['category'])"
   ]
  },
  {
   "cell_type": "code",
   "execution_count": 19,
   "id": "13dc8371",
   "metadata": {},
   "outputs": [
    {
     "data": {
      "text/html": [
       "<div>\n",
       "<style scoped>\n",
       "    .dataframe tbody tr th:only-of-type {\n",
       "        vertical-align: middle;\n",
       "    }\n",
       "\n",
       "    .dataframe tbody tr th {\n",
       "        vertical-align: top;\n",
       "    }\n",
       "\n",
       "    .dataframe thead th {\n",
       "        text-align: right;\n",
       "    }\n",
       "</style>\n",
       "<table border=\"1\" class=\"dataframe\">\n",
       "  <thead>\n",
       "    <tr style=\"text-align: right;\">\n",
       "      <th></th>\n",
       "      <th>Any</th>\n",
       "      <th>Trimestre</th>\n",
       "      <th>Codi_Districte</th>\n",
       "      <th>Codi_Barri</th>\n",
       "      <th>Preu</th>\n",
       "    </tr>\n",
       "  </thead>\n",
       "  <tbody>\n",
       "    <tr>\n",
       "      <th>count</th>\n",
       "      <td>584.0</td>\n",
       "      <td>584.000000</td>\n",
       "      <td>584.000000</td>\n",
       "      <td>584.000000</td>\n",
       "      <td>540.000000</td>\n",
       "    </tr>\n",
       "    <tr>\n",
       "      <th>mean</th>\n",
       "      <td>2021.0</td>\n",
       "      <td>2.500000</td>\n",
       "      <td>6.246575</td>\n",
       "      <td>37.000000</td>\n",
       "      <td>442.157222</td>\n",
       "    </tr>\n",
       "    <tr>\n",
       "      <th>std</th>\n",
       "      <td>0.0</td>\n",
       "      <td>1.118992</td>\n",
       "      <td>2.790726</td>\n",
       "      <td>21.089371</td>\n",
       "      <td>457.358745</td>\n",
       "    </tr>\n",
       "    <tr>\n",
       "      <th>min</th>\n",
       "      <td>2021.0</td>\n",
       "      <td>1.000000</td>\n",
       "      <td>1.000000</td>\n",
       "      <td>1.000000</td>\n",
       "      <td>6.700000</td>\n",
       "    </tr>\n",
       "    <tr>\n",
       "      <th>25%</th>\n",
       "      <td>2021.0</td>\n",
       "      <td>1.750000</td>\n",
       "      <td>4.000000</td>\n",
       "      <td>19.000000</td>\n",
       "      <td>12.775000</td>\n",
       "    </tr>\n",
       "    <tr>\n",
       "      <th>50%</th>\n",
       "      <td>2021.0</td>\n",
       "      <td>2.500000</td>\n",
       "      <td>7.000000</td>\n",
       "      <td>37.000000</td>\n",
       "      <td>232.750000</td>\n",
       "    </tr>\n",
       "    <tr>\n",
       "      <th>75%</th>\n",
       "      <td>2021.0</td>\n",
       "      <td>3.250000</td>\n",
       "      <td>8.000000</td>\n",
       "      <td>55.000000</td>\n",
       "      <td>815.875000</td>\n",
       "    </tr>\n",
       "    <tr>\n",
       "      <th>max</th>\n",
       "      <td>2021.0</td>\n",
       "      <td>4.000000</td>\n",
       "      <td>10.000000</td>\n",
       "      <td>73.000000</td>\n",
       "      <td>1816.500000</td>\n",
       "    </tr>\n",
       "  </tbody>\n",
       "</table>\n",
       "</div>"
      ],
      "text/plain": [
       "          Any   Trimestre  Codi_Districte  Codi_Barri         Preu\n",
       "count   584.0  584.000000      584.000000  584.000000   540.000000\n",
       "mean   2021.0    2.500000        6.246575   37.000000   442.157222\n",
       "std       0.0    1.118992        2.790726   21.089371   457.358745\n",
       "min    2021.0    1.000000        1.000000    1.000000     6.700000\n",
       "25%    2021.0    1.750000        4.000000   19.000000    12.775000\n",
       "50%    2021.0    2.500000        7.000000   37.000000   232.750000\n",
       "75%    2021.0    3.250000        8.000000   55.000000   815.875000\n",
       "max    2021.0    4.000000       10.000000   73.000000  1816.500000"
      ]
     },
     "execution_count": 19,
     "metadata": {},
     "output_type": "execute_result"
    }
   ],
   "source": [
    "df_preulloguer.describe()"
   ]
  },
  {
   "cell_type": "code",
   "execution_count": 20,
   "id": "74db48fe",
   "metadata": {},
   "outputs": [
    {
     "data": {
      "text/html": [
       "<div>\n",
       "<style scoped>\n",
       "    .dataframe tbody tr th:only-of-type {\n",
       "        vertical-align: middle;\n",
       "    }\n",
       "\n",
       "    .dataframe tbody tr th {\n",
       "        vertical-align: top;\n",
       "    }\n",
       "\n",
       "    .dataframe thead th {\n",
       "        text-align: right;\n",
       "    }\n",
       "</style>\n",
       "<table border=\"1\" class=\"dataframe\">\n",
       "  <thead>\n",
       "    <tr style=\"text-align: right;\">\n",
       "      <th></th>\n",
       "      <th>Any</th>\n",
       "      <th>Trimestre</th>\n",
       "      <th>Codi_Districte</th>\n",
       "      <th>Nom_Districte</th>\n",
       "      <th>Codi_Barri</th>\n",
       "      <th>Nom_Barri</th>\n",
       "      <th>Lloguer_mitja</th>\n",
       "      <th>Preu</th>\n",
       "    </tr>\n",
       "  </thead>\n",
       "  <tbody>\n",
       "    <tr>\n",
       "      <th>0</th>\n",
       "      <td>2021</td>\n",
       "      <td>1</td>\n",
       "      <td>1</td>\n",
       "      <td>Ciutat Vella</td>\n",
       "      <td>1</td>\n",
       "      <td>el Raval</td>\n",
       "      <td>Lloguer mitjà mensual (Euros/mes)</td>\n",
       "      <td>759.2</td>\n",
       "    </tr>\n",
       "    <tr>\n",
       "      <th>1</th>\n",
       "      <td>2021</td>\n",
       "      <td>1</td>\n",
       "      <td>1</td>\n",
       "      <td>Ciutat Vella</td>\n",
       "      <td>2</td>\n",
       "      <td>el Barri Gòtic</td>\n",
       "      <td>Lloguer mitjà mensual (Euros/mes)</td>\n",
       "      <td>929.6</td>\n",
       "    </tr>\n",
       "    <tr>\n",
       "      <th>2</th>\n",
       "      <td>2021</td>\n",
       "      <td>1</td>\n",
       "      <td>1</td>\n",
       "      <td>Ciutat Vella</td>\n",
       "      <td>3</td>\n",
       "      <td>la Barceloneta</td>\n",
       "      <td>Lloguer mitjà mensual (Euros/mes)</td>\n",
       "      <td>808.9</td>\n",
       "    </tr>\n",
       "    <tr>\n",
       "      <th>3</th>\n",
       "      <td>2021</td>\n",
       "      <td>1</td>\n",
       "      <td>1</td>\n",
       "      <td>Ciutat Vella</td>\n",
       "      <td>4</td>\n",
       "      <td>Sant Pere, Santa Caterina i la Ribera</td>\n",
       "      <td>Lloguer mitjà mensual (Euros/mes)</td>\n",
       "      <td>879.4</td>\n",
       "    </tr>\n",
       "    <tr>\n",
       "      <th>4</th>\n",
       "      <td>2021</td>\n",
       "      <td>1</td>\n",
       "      <td>2</td>\n",
       "      <td>Eixample</td>\n",
       "      <td>5</td>\n",
       "      <td>el Fort Pienc</td>\n",
       "      <td>Lloguer mitjà mensual (Euros/mes)</td>\n",
       "      <td>918.0</td>\n",
       "    </tr>\n",
       "  </tbody>\n",
       "</table>\n",
       "</div>"
      ],
      "text/plain": [
       "    Any  Trimestre  Codi_Districte Nom_Districte  Codi_Barri  \\\n",
       "0  2021          1               1  Ciutat Vella           1   \n",
       "1  2021          1               1  Ciutat Vella           2   \n",
       "2  2021          1               1  Ciutat Vella           3   \n",
       "3  2021          1               1  Ciutat Vella           4   \n",
       "4  2021          1               2      Eixample           5   \n",
       "\n",
       "                               Nom_Barri                      Lloguer_mitja  \\\n",
       "0                               el Raval  Lloguer mitjà mensual (Euros/mes)   \n",
       "1                         el Barri Gòtic  Lloguer mitjà mensual (Euros/mes)   \n",
       "2                         la Barceloneta  Lloguer mitjà mensual (Euros/mes)   \n",
       "3  Sant Pere, Santa Caterina i la Ribera  Lloguer mitjà mensual (Euros/mes)   \n",
       "4                          el Fort Pienc  Lloguer mitjà mensual (Euros/mes)   \n",
       "\n",
       "    Preu  \n",
       "0  759.2  \n",
       "1  929.6  \n",
       "2  808.9  \n",
       "3  879.4  \n",
       "4  918.0  "
      ]
     },
     "execution_count": 20,
     "metadata": {},
     "output_type": "execute_result"
    }
   ],
   "source": [
    "df_preulloguer.head()"
   ]
  },
  {
   "cell_type": "code",
   "execution_count": 21,
   "id": "0be00c07",
   "metadata": {},
   "outputs": [
    {
     "name": "stdout",
     "output_type": "stream",
     "text": [
      "<class 'pandas.core.frame.DataFrame'>\n",
      "RangeIndex: 584 entries, 0 to 583\n",
      "Data columns (total 8 columns):\n",
      " #   Column          Non-Null Count  Dtype   \n",
      "---  ------          --------------  -----   \n",
      " 0   Any             584 non-null    int64   \n",
      " 1   Trimestre       584 non-null    int64   \n",
      " 2   Codi_Districte  584 non-null    int64   \n",
      " 3   Nom_Districte   584 non-null    category\n",
      " 4   Codi_Barri      584 non-null    int64   \n",
      " 5   Nom_Barri       584 non-null    category\n",
      " 6   Lloguer_mitja   584 non-null    category\n",
      " 7   Preu            540 non-null    float64 \n",
      "dtypes: category(3), float64(1), int64(4)\n",
      "memory usage: 27.8 KB\n"
     ]
    }
   ],
   "source": [
    "df_preulloguer.info()"
   ]
  },
  {
   "cell_type": "markdown",
   "id": "ec862de2",
   "metadata": {},
   "source": [
    "A continuación analizamos las **variables** con el objetivo de simplificar el graficar las visualizaciones:\n",
    "\n",
    "* **Barrio**"
   ]
  },
  {
   "cell_type": "code",
   "execution_count": 39,
   "id": "107ebfef",
   "metadata": {},
   "outputs": [
    {
     "data": {
      "text/plain": [
       "73"
      ]
     },
     "execution_count": 39,
     "metadata": {},
     "output_type": "execute_result"
    }
   ],
   "source": [
    "#Miramos la cantidad de barrios que hay: 73\n",
    "df_preulloguer.Nom_Barri.nunique()"
   ]
  },
  {
   "cell_type": "code",
   "execution_count": 40,
   "id": "1b39dd5a",
   "metadata": {},
   "outputs": [
    {
     "data": {
      "text/plain": [
       "count               584\n",
       "unique               73\n",
       "top       Baró de Viver\n",
       "freq                  8\n",
       "Name: Nom_Barri, dtype: object"
      ]
     },
     "execution_count": 40,
     "metadata": {},
     "output_type": "execute_result"
    }
   ],
   "source": [
    "df_preulloguer.Nom_Barri.describe()"
   ]
  },
  {
   "cell_type": "code",
   "execution_count": 45,
   "id": "f9d200bb",
   "metadata": {},
   "outputs": [
    {
     "data": {
      "text/html": [
       "<div>\n",
       "<style scoped>\n",
       "    .dataframe tbody tr th:only-of-type {\n",
       "        vertical-align: middle;\n",
       "    }\n",
       "\n",
       "    .dataframe tbody tr th {\n",
       "        vertical-align: top;\n",
       "    }\n",
       "\n",
       "    .dataframe thead th {\n",
       "        text-align: right;\n",
       "    }\n",
       "</style>\n",
       "<table border=\"1\" class=\"dataframe\">\n",
       "  <thead>\n",
       "    <tr style=\"text-align: right;\">\n",
       "      <th></th>\n",
       "      <th></th>\n",
       "      <th>Any</th>\n",
       "      <th>Trimestre</th>\n",
       "      <th>Codi_Districte</th>\n",
       "      <th>Codi_Barri</th>\n",
       "      <th>Preu</th>\n",
       "    </tr>\n",
       "    <tr>\n",
       "      <th>Nom_Barri</th>\n",
       "      <th>Lloguer_mitja</th>\n",
       "      <th></th>\n",
       "      <th></th>\n",
       "      <th></th>\n",
       "      <th></th>\n",
       "      <th></th>\n",
       "    </tr>\n",
       "  </thead>\n",
       "  <tbody>\n",
       "    <tr>\n",
       "      <th rowspan=\"2\" valign=\"top\">Baró de Viver</th>\n",
       "      <th>Lloguer mitjà mensual (Euros/mes)</th>\n",
       "      <td>2021.0</td>\n",
       "      <td>2.5</td>\n",
       "      <td>9.0</td>\n",
       "      <td>58.0</td>\n",
       "      <td>532.100</td>\n",
       "    </tr>\n",
       "    <tr>\n",
       "      <th>Lloguer mitjà per superfície (Euros/m2 mes)</th>\n",
       "      <td>2021.0</td>\n",
       "      <td>2.5</td>\n",
       "      <td>9.0</td>\n",
       "      <td>58.0</td>\n",
       "      <td>7.950</td>\n",
       "    </tr>\n",
       "    <tr>\n",
       "      <th rowspan=\"2\" valign=\"top\">Can Baró</th>\n",
       "      <th>Lloguer mitjà mensual (Euros/mes)</th>\n",
       "      <td>2021.0</td>\n",
       "      <td>2.5</td>\n",
       "      <td>7.0</td>\n",
       "      <td>34.0</td>\n",
       "      <td>756.500</td>\n",
       "    </tr>\n",
       "    <tr>\n",
       "      <th>Lloguer mitjà per superfície (Euros/m2 mes)</th>\n",
       "      <td>2021.0</td>\n",
       "      <td>2.5</td>\n",
       "      <td>7.0</td>\n",
       "      <td>34.0</td>\n",
       "      <td>12.525</td>\n",
       "    </tr>\n",
       "    <tr>\n",
       "      <th>Can Peguera</th>\n",
       "      <th>Lloguer mitjà mensual (Euros/mes)</th>\n",
       "      <td>2021.0</td>\n",
       "      <td>2.5</td>\n",
       "      <td>8.0</td>\n",
       "      <td>47.0</td>\n",
       "      <td>NaN</td>\n",
       "    </tr>\n",
       "    <tr>\n",
       "      <th>...</th>\n",
       "      <th>...</th>\n",
       "      <td>...</td>\n",
       "      <td>...</td>\n",
       "      <td>...</td>\n",
       "      <td>...</td>\n",
       "      <td>...</td>\n",
       "    </tr>\n",
       "    <tr>\n",
       "      <th>les Corts</th>\n",
       "      <th>Lloguer mitjà per superfície (Euros/m2 mes)</th>\n",
       "      <td>2021.0</td>\n",
       "      <td>2.5</td>\n",
       "      <td>4.0</td>\n",
       "      <td>19.0</td>\n",
       "      <td>14.025</td>\n",
       "    </tr>\n",
       "    <tr>\n",
       "      <th rowspan=\"2\" valign=\"top\">les Roquetes</th>\n",
       "      <th>Lloguer mitjà mensual (Euros/mes)</th>\n",
       "      <td>2021.0</td>\n",
       "      <td>2.5</td>\n",
       "      <td>8.0</td>\n",
       "      <td>50.0</td>\n",
       "      <td>621.625</td>\n",
       "    </tr>\n",
       "    <tr>\n",
       "      <th>Lloguer mitjà per superfície (Euros/m2 mes)</th>\n",
       "      <td>2021.0</td>\n",
       "      <td>2.5</td>\n",
       "      <td>8.0</td>\n",
       "      <td>50.0</td>\n",
       "      <td>11.300</td>\n",
       "    </tr>\n",
       "    <tr>\n",
       "      <th rowspan=\"2\" valign=\"top\">les Tres Torres</th>\n",
       "      <th>Lloguer mitjà mensual (Euros/mes)</th>\n",
       "      <td>2021.0</td>\n",
       "      <td>2.5</td>\n",
       "      <td>5.0</td>\n",
       "      <td>24.0</td>\n",
       "      <td>1542.725</td>\n",
       "    </tr>\n",
       "    <tr>\n",
       "      <th>Lloguer mitjà per superfície (Euros/m2 mes)</th>\n",
       "      <td>2021.0</td>\n",
       "      <td>2.5</td>\n",
       "      <td>5.0</td>\n",
       "      <td>24.0</td>\n",
       "      <td>15.725</td>\n",
       "    </tr>\n",
       "  </tbody>\n",
       "</table>\n",
       "<p>146 rows × 5 columns</p>\n",
       "</div>"
      ],
      "text/plain": [
       "                                                                Any  \\\n",
       "Nom_Barri       Lloguer_mitja                                         \n",
       "Baró de Viver   Lloguer mitjà mensual (Euros/mes)            2021.0   \n",
       "                Lloguer mitjà per superfície (Euros/m2 mes)  2021.0   \n",
       "Can Baró        Lloguer mitjà mensual (Euros/mes)            2021.0   \n",
       "                Lloguer mitjà per superfície (Euros/m2 mes)  2021.0   \n",
       "Can Peguera     Lloguer mitjà mensual (Euros/mes)            2021.0   \n",
       "...                                                             ...   \n",
       "les Corts       Lloguer mitjà per superfície (Euros/m2 mes)  2021.0   \n",
       "les Roquetes    Lloguer mitjà mensual (Euros/mes)            2021.0   \n",
       "                Lloguer mitjà per superfície (Euros/m2 mes)  2021.0   \n",
       "les Tres Torres Lloguer mitjà mensual (Euros/mes)            2021.0   \n",
       "                Lloguer mitjà per superfície (Euros/m2 mes)  2021.0   \n",
       "\n",
       "                                                             Trimestre  \\\n",
       "Nom_Barri       Lloguer_mitja                                            \n",
       "Baró de Viver   Lloguer mitjà mensual (Euros/mes)                  2.5   \n",
       "                Lloguer mitjà per superfície (Euros/m2 mes)        2.5   \n",
       "Can Baró        Lloguer mitjà mensual (Euros/mes)                  2.5   \n",
       "                Lloguer mitjà per superfície (Euros/m2 mes)        2.5   \n",
       "Can Peguera     Lloguer mitjà mensual (Euros/mes)                  2.5   \n",
       "...                                                                ...   \n",
       "les Corts       Lloguer mitjà per superfície (Euros/m2 mes)        2.5   \n",
       "les Roquetes    Lloguer mitjà mensual (Euros/mes)                  2.5   \n",
       "                Lloguer mitjà per superfície (Euros/m2 mes)        2.5   \n",
       "les Tres Torres Lloguer mitjà mensual (Euros/mes)                  2.5   \n",
       "                Lloguer mitjà per superfície (Euros/m2 mes)        2.5   \n",
       "\n",
       "                                                             Codi_Districte  \\\n",
       "Nom_Barri       Lloguer_mitja                                                 \n",
       "Baró de Viver   Lloguer mitjà mensual (Euros/mes)                       9.0   \n",
       "                Lloguer mitjà per superfície (Euros/m2 mes)             9.0   \n",
       "Can Baró        Lloguer mitjà mensual (Euros/mes)                       7.0   \n",
       "                Lloguer mitjà per superfície (Euros/m2 mes)             7.0   \n",
       "Can Peguera     Lloguer mitjà mensual (Euros/mes)                       8.0   \n",
       "...                                                                     ...   \n",
       "les Corts       Lloguer mitjà per superfície (Euros/m2 mes)             4.0   \n",
       "les Roquetes    Lloguer mitjà mensual (Euros/mes)                       8.0   \n",
       "                Lloguer mitjà per superfície (Euros/m2 mes)             8.0   \n",
       "les Tres Torres Lloguer mitjà mensual (Euros/mes)                       5.0   \n",
       "                Lloguer mitjà per superfície (Euros/m2 mes)             5.0   \n",
       "\n",
       "                                                             Codi_Barri  \\\n",
       "Nom_Barri       Lloguer_mitja                                             \n",
       "Baró de Viver   Lloguer mitjà mensual (Euros/mes)                  58.0   \n",
       "                Lloguer mitjà per superfície (Euros/m2 mes)        58.0   \n",
       "Can Baró        Lloguer mitjà mensual (Euros/mes)                  34.0   \n",
       "                Lloguer mitjà per superfície (Euros/m2 mes)        34.0   \n",
       "Can Peguera     Lloguer mitjà mensual (Euros/mes)                  47.0   \n",
       "...                                                                 ...   \n",
       "les Corts       Lloguer mitjà per superfície (Euros/m2 mes)        19.0   \n",
       "les Roquetes    Lloguer mitjà mensual (Euros/mes)                  50.0   \n",
       "                Lloguer mitjà per superfície (Euros/m2 mes)        50.0   \n",
       "les Tres Torres Lloguer mitjà mensual (Euros/mes)                  24.0   \n",
       "                Lloguer mitjà per superfície (Euros/m2 mes)        24.0   \n",
       "\n",
       "                                                                 Preu  \n",
       "Nom_Barri       Lloguer_mitja                                          \n",
       "Baró de Viver   Lloguer mitjà mensual (Euros/mes)             532.100  \n",
       "                Lloguer mitjà per superfície (Euros/m2 mes)     7.950  \n",
       "Can Baró        Lloguer mitjà mensual (Euros/mes)             756.500  \n",
       "                Lloguer mitjà per superfície (Euros/m2 mes)    12.525  \n",
       "Can Peguera     Lloguer mitjà mensual (Euros/mes)                 NaN  \n",
       "...                                                               ...  \n",
       "les Corts       Lloguer mitjà per superfície (Euros/m2 mes)    14.025  \n",
       "les Roquetes    Lloguer mitjà mensual (Euros/mes)             621.625  \n",
       "                Lloguer mitjà per superfície (Euros/m2 mes)    11.300  \n",
       "les Tres Torres Lloguer mitjà mensual (Euros/mes)            1542.725  \n",
       "                Lloguer mitjà per superfície (Euros/m2 mes)    15.725  \n",
       "\n",
       "[146 rows x 5 columns]"
      ]
     },
     "execution_count": 45,
     "metadata": {},
     "output_type": "execute_result"
    }
   ],
   "source": [
    "Lloguer_mes = df_preulloguer.groupby(['Nom_Barri', 'Lloguer_mitja']).mean()\n",
    "Lloguer_mes"
   ]
  },
  {
   "cell_type": "markdown",
   "id": "763e3ea5",
   "metadata": {},
   "source": [
    "* **Distritos**"
   ]
  },
  {
   "cell_type": "code",
   "execution_count": 38,
   "id": "1ef7f792",
   "metadata": {},
   "outputs": [
    {
     "data": {
      "text/plain": [
       "10"
      ]
     },
     "execution_count": 38,
     "metadata": {},
     "output_type": "execute_result"
    }
   ],
   "source": [
    "#Miramos la cantidad de distritos que hay: 10\n",
    "df_preulloguer.Nom_Districte.nunique()"
   ]
  },
  {
   "cell_type": "code",
   "execution_count": 42,
   "id": "573d014a",
   "metadata": {},
   "outputs": [
    {
     "data": {
      "text/plain": [
       "count            584\n",
       "unique            10\n",
       "top       Nou Barris\n",
       "freq             104\n",
       "Name: Nom_Districte, dtype: object"
      ]
     },
     "execution_count": 42,
     "metadata": {},
     "output_type": "execute_result"
    }
   ],
   "source": [
    "df_preulloguer.Nom_Districte.describe()"
   ]
  },
  {
   "cell_type": "code",
   "execution_count": 44,
   "id": "0aeb3407",
   "metadata": {},
   "outputs": [
    {
     "data": {
      "text/html": [
       "<div>\n",
       "<style scoped>\n",
       "    .dataframe tbody tr th:only-of-type {\n",
       "        vertical-align: middle;\n",
       "    }\n",
       "\n",
       "    .dataframe tbody tr th {\n",
       "        vertical-align: top;\n",
       "    }\n",
       "\n",
       "    .dataframe thead th {\n",
       "        text-align: right;\n",
       "    }\n",
       "</style>\n",
       "<table border=\"1\" class=\"dataframe\">\n",
       "  <thead>\n",
       "    <tr style=\"text-align: right;\">\n",
       "      <th></th>\n",
       "      <th></th>\n",
       "      <th>Any</th>\n",
       "      <th>Trimestre</th>\n",
       "      <th>Codi_Districte</th>\n",
       "      <th>Codi_Barri</th>\n",
       "      <th>Preu</th>\n",
       "    </tr>\n",
       "    <tr>\n",
       "      <th>Nom_Districte</th>\n",
       "      <th>Lloguer_mitja</th>\n",
       "      <th></th>\n",
       "      <th></th>\n",
       "      <th></th>\n",
       "      <th></th>\n",
       "      <th></th>\n",
       "    </tr>\n",
       "  </thead>\n",
       "  <tbody>\n",
       "    <tr>\n",
       "      <th rowspan=\"2\" valign=\"top\">Ciutat Vella</th>\n",
       "      <th>Lloguer mitjà mensual (Euros/mes)</th>\n",
       "      <td>2021.0</td>\n",
       "      <td>2.5</td>\n",
       "      <td>1.0</td>\n",
       "      <td>2.5</td>\n",
       "      <td>858.925000</td>\n",
       "    </tr>\n",
       "    <tr>\n",
       "      <th>Lloguer mitjà per superfície (Euros/m2 mes)</th>\n",
       "      <td>2021.0</td>\n",
       "      <td>2.5</td>\n",
       "      <td>1.0</td>\n",
       "      <td>2.5</td>\n",
       "      <td>13.775000</td>\n",
       "    </tr>\n",
       "    <tr>\n",
       "      <th rowspan=\"2\" valign=\"top\">Eixample</th>\n",
       "      <th>Lloguer mitjà mensual (Euros/mes)</th>\n",
       "      <td>2021.0</td>\n",
       "      <td>2.5</td>\n",
       "      <td>2.0</td>\n",
       "      <td>7.5</td>\n",
       "      <td>1000.545833</td>\n",
       "    </tr>\n",
       "    <tr>\n",
       "      <th>Lloguer mitjà per superfície (Euros/m2 mes)</th>\n",
       "      <td>2021.0</td>\n",
       "      <td>2.5</td>\n",
       "      <td>2.0</td>\n",
       "      <td>7.5</td>\n",
       "      <td>13.300000</td>\n",
       "    </tr>\n",
       "    <tr>\n",
       "      <th rowspan=\"2\" valign=\"top\">Gràcia</th>\n",
       "      <th>Lloguer mitjà mensual (Euros/mes)</th>\n",
       "      <td>2021.0</td>\n",
       "      <td>2.5</td>\n",
       "      <td>6.0</td>\n",
       "      <td>30.0</td>\n",
       "      <td>877.265000</td>\n",
       "    </tr>\n",
       "    <tr>\n",
       "      <th>Lloguer mitjà per superfície (Euros/m2 mes)</th>\n",
       "      <td>2021.0</td>\n",
       "      <td>2.5</td>\n",
       "      <td>6.0</td>\n",
       "      <td>30.0</td>\n",
       "      <td>13.380000</td>\n",
       "    </tr>\n",
       "    <tr>\n",
       "      <th rowspan=\"2\" valign=\"top\">Horta-Guinardó</th>\n",
       "      <th>Lloguer mitjà mensual (Euros/mes)</th>\n",
       "      <td>2021.0</td>\n",
       "      <td>2.5</td>\n",
       "      <td>7.0</td>\n",
       "      <td>38.0</td>\n",
       "      <td>765.007500</td>\n",
       "    </tr>\n",
       "    <tr>\n",
       "      <th>Lloguer mitjà per superfície (Euros/m2 mes)</th>\n",
       "      <td>2021.0</td>\n",
       "      <td>2.5</td>\n",
       "      <td>7.0</td>\n",
       "      <td>38.0</td>\n",
       "      <td>11.987500</td>\n",
       "    </tr>\n",
       "    <tr>\n",
       "      <th rowspan=\"2\" valign=\"top\">Les Corts</th>\n",
       "      <th>Lloguer mitjà mensual (Euros/mes)</th>\n",
       "      <td>2021.0</td>\n",
       "      <td>2.5</td>\n",
       "      <td>4.0</td>\n",
       "      <td>20.0</td>\n",
       "      <td>1214.066667</td>\n",
       "    </tr>\n",
       "    <tr>\n",
       "      <th>Lloguer mitjà per superfície (Euros/m2 mes)</th>\n",
       "      <td>2021.0</td>\n",
       "      <td>2.5</td>\n",
       "      <td>4.0</td>\n",
       "      <td>20.0</td>\n",
       "      <td>14.008333</td>\n",
       "    </tr>\n",
       "    <tr>\n",
       "      <th rowspan=\"2\" valign=\"top\">Nou Barris</th>\n",
       "      <th>Lloguer mitjà mensual (Euros/mes)</th>\n",
       "      <td>2021.0</td>\n",
       "      <td>2.5</td>\n",
       "      <td>8.0</td>\n",
       "      <td>50.0</td>\n",
       "      <td>664.292500</td>\n",
       "    </tr>\n",
       "    <tr>\n",
       "      <th>Lloguer mitjà per superfície (Euros/m2 mes)</th>\n",
       "      <td>2021.0</td>\n",
       "      <td>2.5</td>\n",
       "      <td>8.0</td>\n",
       "      <td>50.0</td>\n",
       "      <td>10.922500</td>\n",
       "    </tr>\n",
       "    <tr>\n",
       "      <th rowspan=\"2\" valign=\"top\">Sant Andreu</th>\n",
       "      <th>Lloguer mitjà mensual (Euros/mes)</th>\n",
       "      <td>2021.0</td>\n",
       "      <td>2.5</td>\n",
       "      <td>9.0</td>\n",
       "      <td>60.0</td>\n",
       "      <td>721.196154</td>\n",
       "    </tr>\n",
       "    <tr>\n",
       "      <th>Lloguer mitjà per superfície (Euros/m2 mes)</th>\n",
       "      <td>2021.0</td>\n",
       "      <td>2.5</td>\n",
       "      <td>9.0</td>\n",
       "      <td>60.0</td>\n",
       "      <td>11.153846</td>\n",
       "    </tr>\n",
       "    <tr>\n",
       "      <th rowspan=\"2\" valign=\"top\">Sant Martí</th>\n",
       "      <th>Lloguer mitjà mensual (Euros/mes)</th>\n",
       "      <td>2021.0</td>\n",
       "      <td>2.5</td>\n",
       "      <td>10.0</td>\n",
       "      <td>68.5</td>\n",
       "      <td>916.450000</td>\n",
       "    </tr>\n",
       "    <tr>\n",
       "      <th>Lloguer mitjà per superfície (Euros/m2 mes)</th>\n",
       "      <td>2021.0</td>\n",
       "      <td>2.5</td>\n",
       "      <td>10.0</td>\n",
       "      <td>68.5</td>\n",
       "      <td>13.440000</td>\n",
       "    </tr>\n",
       "    <tr>\n",
       "      <th rowspan=\"2\" valign=\"top\">Sants-Montjuïc</th>\n",
       "      <th>Lloguer mitjà mensual (Euros/mes)</th>\n",
       "      <td>2021.0</td>\n",
       "      <td>2.5</td>\n",
       "      <td>3.0</td>\n",
       "      <td>14.5</td>\n",
       "      <td>798.932143</td>\n",
       "    </tr>\n",
       "    <tr>\n",
       "      <th>Lloguer mitjà per superfície (Euros/m2 mes)</th>\n",
       "      <td>2021.0</td>\n",
       "      <td>2.5</td>\n",
       "      <td>3.0</td>\n",
       "      <td>14.5</td>\n",
       "      <td>12.678571</td>\n",
       "    </tr>\n",
       "    <tr>\n",
       "      <th rowspan=\"2\" valign=\"top\">Sarrià-Sant Gervasi</th>\n",
       "      <th>Lloguer mitjà mensual (Euros/mes)</th>\n",
       "      <td>2021.0</td>\n",
       "      <td>2.5</td>\n",
       "      <td>5.0</td>\n",
       "      <td>24.5</td>\n",
       "      <td>1271.212500</td>\n",
       "    </tr>\n",
       "    <tr>\n",
       "      <th>Lloguer mitjà per superfície (Euros/m2 mes)</th>\n",
       "      <td>2021.0</td>\n",
       "      <td>2.5</td>\n",
       "      <td>5.0</td>\n",
       "      <td>24.5</td>\n",
       "      <td>15.012500</td>\n",
       "    </tr>\n",
       "  </tbody>\n",
       "</table>\n",
       "</div>"
      ],
      "text/plain": [
       "                                                                    Any  \\\n",
       "Nom_Districte       Lloguer_mitja                                         \n",
       "Ciutat Vella        Lloguer mitjà mensual (Euros/mes)            2021.0   \n",
       "                    Lloguer mitjà per superfície (Euros/m2 mes)  2021.0   \n",
       "Eixample            Lloguer mitjà mensual (Euros/mes)            2021.0   \n",
       "                    Lloguer mitjà per superfície (Euros/m2 mes)  2021.0   \n",
       "Gràcia              Lloguer mitjà mensual (Euros/mes)            2021.0   \n",
       "                    Lloguer mitjà per superfície (Euros/m2 mes)  2021.0   \n",
       "Horta-Guinardó      Lloguer mitjà mensual (Euros/mes)            2021.0   \n",
       "                    Lloguer mitjà per superfície (Euros/m2 mes)  2021.0   \n",
       "Les Corts           Lloguer mitjà mensual (Euros/mes)            2021.0   \n",
       "                    Lloguer mitjà per superfície (Euros/m2 mes)  2021.0   \n",
       "Nou Barris          Lloguer mitjà mensual (Euros/mes)            2021.0   \n",
       "                    Lloguer mitjà per superfície (Euros/m2 mes)  2021.0   \n",
       "Sant Andreu         Lloguer mitjà mensual (Euros/mes)            2021.0   \n",
       "                    Lloguer mitjà per superfície (Euros/m2 mes)  2021.0   \n",
       "Sant Martí          Lloguer mitjà mensual (Euros/mes)            2021.0   \n",
       "                    Lloguer mitjà per superfície (Euros/m2 mes)  2021.0   \n",
       "Sants-Montjuïc      Lloguer mitjà mensual (Euros/mes)            2021.0   \n",
       "                    Lloguer mitjà per superfície (Euros/m2 mes)  2021.0   \n",
       "Sarrià-Sant Gervasi Lloguer mitjà mensual (Euros/mes)            2021.0   \n",
       "                    Lloguer mitjà per superfície (Euros/m2 mes)  2021.0   \n",
       "\n",
       "                                                                 Trimestre  \\\n",
       "Nom_Districte       Lloguer_mitja                                            \n",
       "Ciutat Vella        Lloguer mitjà mensual (Euros/mes)                  2.5   \n",
       "                    Lloguer mitjà per superfície (Euros/m2 mes)        2.5   \n",
       "Eixample            Lloguer mitjà mensual (Euros/mes)                  2.5   \n",
       "                    Lloguer mitjà per superfície (Euros/m2 mes)        2.5   \n",
       "Gràcia              Lloguer mitjà mensual (Euros/mes)                  2.5   \n",
       "                    Lloguer mitjà per superfície (Euros/m2 mes)        2.5   \n",
       "Horta-Guinardó      Lloguer mitjà mensual (Euros/mes)                  2.5   \n",
       "                    Lloguer mitjà per superfície (Euros/m2 mes)        2.5   \n",
       "Les Corts           Lloguer mitjà mensual (Euros/mes)                  2.5   \n",
       "                    Lloguer mitjà per superfície (Euros/m2 mes)        2.5   \n",
       "Nou Barris          Lloguer mitjà mensual (Euros/mes)                  2.5   \n",
       "                    Lloguer mitjà per superfície (Euros/m2 mes)        2.5   \n",
       "Sant Andreu         Lloguer mitjà mensual (Euros/mes)                  2.5   \n",
       "                    Lloguer mitjà per superfície (Euros/m2 mes)        2.5   \n",
       "Sant Martí          Lloguer mitjà mensual (Euros/mes)                  2.5   \n",
       "                    Lloguer mitjà per superfície (Euros/m2 mes)        2.5   \n",
       "Sants-Montjuïc      Lloguer mitjà mensual (Euros/mes)                  2.5   \n",
       "                    Lloguer mitjà per superfície (Euros/m2 mes)        2.5   \n",
       "Sarrià-Sant Gervasi Lloguer mitjà mensual (Euros/mes)                  2.5   \n",
       "                    Lloguer mitjà per superfície (Euros/m2 mes)        2.5   \n",
       "\n",
       "                                                                 Codi_Districte  \\\n",
       "Nom_Districte       Lloguer_mitja                                                 \n",
       "Ciutat Vella        Lloguer mitjà mensual (Euros/mes)                       1.0   \n",
       "                    Lloguer mitjà per superfície (Euros/m2 mes)             1.0   \n",
       "Eixample            Lloguer mitjà mensual (Euros/mes)                       2.0   \n",
       "                    Lloguer mitjà per superfície (Euros/m2 mes)             2.0   \n",
       "Gràcia              Lloguer mitjà mensual (Euros/mes)                       6.0   \n",
       "                    Lloguer mitjà per superfície (Euros/m2 mes)             6.0   \n",
       "Horta-Guinardó      Lloguer mitjà mensual (Euros/mes)                       7.0   \n",
       "                    Lloguer mitjà per superfície (Euros/m2 mes)             7.0   \n",
       "Les Corts           Lloguer mitjà mensual (Euros/mes)                       4.0   \n",
       "                    Lloguer mitjà per superfície (Euros/m2 mes)             4.0   \n",
       "Nou Barris          Lloguer mitjà mensual (Euros/mes)                       8.0   \n",
       "                    Lloguer mitjà per superfície (Euros/m2 mes)             8.0   \n",
       "Sant Andreu         Lloguer mitjà mensual (Euros/mes)                       9.0   \n",
       "                    Lloguer mitjà per superfície (Euros/m2 mes)             9.0   \n",
       "Sant Martí          Lloguer mitjà mensual (Euros/mes)                      10.0   \n",
       "                    Lloguer mitjà per superfície (Euros/m2 mes)            10.0   \n",
       "Sants-Montjuïc      Lloguer mitjà mensual (Euros/mes)                       3.0   \n",
       "                    Lloguer mitjà per superfície (Euros/m2 mes)             3.0   \n",
       "Sarrià-Sant Gervasi Lloguer mitjà mensual (Euros/mes)                       5.0   \n",
       "                    Lloguer mitjà per superfície (Euros/m2 mes)             5.0   \n",
       "\n",
       "                                                                 Codi_Barri  \\\n",
       "Nom_Districte       Lloguer_mitja                                             \n",
       "Ciutat Vella        Lloguer mitjà mensual (Euros/mes)                   2.5   \n",
       "                    Lloguer mitjà per superfície (Euros/m2 mes)         2.5   \n",
       "Eixample            Lloguer mitjà mensual (Euros/mes)                   7.5   \n",
       "                    Lloguer mitjà per superfície (Euros/m2 mes)         7.5   \n",
       "Gràcia              Lloguer mitjà mensual (Euros/mes)                  30.0   \n",
       "                    Lloguer mitjà per superfície (Euros/m2 mes)        30.0   \n",
       "Horta-Guinardó      Lloguer mitjà mensual (Euros/mes)                  38.0   \n",
       "                    Lloguer mitjà per superfície (Euros/m2 mes)        38.0   \n",
       "Les Corts           Lloguer mitjà mensual (Euros/mes)                  20.0   \n",
       "                    Lloguer mitjà per superfície (Euros/m2 mes)        20.0   \n",
       "Nou Barris          Lloguer mitjà mensual (Euros/mes)                  50.0   \n",
       "                    Lloguer mitjà per superfície (Euros/m2 mes)        50.0   \n",
       "Sant Andreu         Lloguer mitjà mensual (Euros/mes)                  60.0   \n",
       "                    Lloguer mitjà per superfície (Euros/m2 mes)        60.0   \n",
       "Sant Martí          Lloguer mitjà mensual (Euros/mes)                  68.5   \n",
       "                    Lloguer mitjà per superfície (Euros/m2 mes)        68.5   \n",
       "Sants-Montjuïc      Lloguer mitjà mensual (Euros/mes)                  14.5   \n",
       "                    Lloguer mitjà per superfície (Euros/m2 mes)        14.5   \n",
       "Sarrià-Sant Gervasi Lloguer mitjà mensual (Euros/mes)                  24.5   \n",
       "                    Lloguer mitjà per superfície (Euros/m2 mes)        24.5   \n",
       "\n",
       "                                                                        Preu  \n",
       "Nom_Districte       Lloguer_mitja                                             \n",
       "Ciutat Vella        Lloguer mitjà mensual (Euros/mes)             858.925000  \n",
       "                    Lloguer mitjà per superfície (Euros/m2 mes)    13.775000  \n",
       "Eixample            Lloguer mitjà mensual (Euros/mes)            1000.545833  \n",
       "                    Lloguer mitjà per superfície (Euros/m2 mes)    13.300000  \n",
       "Gràcia              Lloguer mitjà mensual (Euros/mes)             877.265000  \n",
       "                    Lloguer mitjà per superfície (Euros/m2 mes)    13.380000  \n",
       "Horta-Guinardó      Lloguer mitjà mensual (Euros/mes)             765.007500  \n",
       "                    Lloguer mitjà per superfície (Euros/m2 mes)    11.987500  \n",
       "Les Corts           Lloguer mitjà mensual (Euros/mes)            1214.066667  \n",
       "                    Lloguer mitjà per superfície (Euros/m2 mes)    14.008333  \n",
       "Nou Barris          Lloguer mitjà mensual (Euros/mes)             664.292500  \n",
       "                    Lloguer mitjà per superfície (Euros/m2 mes)    10.922500  \n",
       "Sant Andreu         Lloguer mitjà mensual (Euros/mes)             721.196154  \n",
       "                    Lloguer mitjà per superfície (Euros/m2 mes)    11.153846  \n",
       "Sant Martí          Lloguer mitjà mensual (Euros/mes)             916.450000  \n",
       "                    Lloguer mitjà per superfície (Euros/m2 mes)    13.440000  \n",
       "Sants-Montjuïc      Lloguer mitjà mensual (Euros/mes)             798.932143  \n",
       "                    Lloguer mitjà per superfície (Euros/m2 mes)    12.678571  \n",
       "Sarrià-Sant Gervasi Lloguer mitjà mensual (Euros/mes)            1271.212500  \n",
       "                    Lloguer mitjà per superfície (Euros/m2 mes)    15.012500  "
      ]
     },
     "execution_count": 44,
     "metadata": {},
     "output_type": "execute_result"
    }
   ],
   "source": [
    "Lloguer_dis = df_preulloguer.groupby(['Nom_Districte', 'Lloguer_mitja']).mean()\n",
    "Lloguer_dis"
   ]
  },
  {
   "cell_type": "markdown",
   "id": "5915872c",
   "metadata": {},
   "source": [
    "* **Preu**\n",
    "\n",
    "Esta columna está dividida en dos tipos de registros, tenemos el precio medio del alquiler del metro cuadrado y el precio medio de la mensualidad. Procedemos a hacer las operaciones necesarias para obtener los datos por separado. "
   ]
  },
  {
   "cell_type": "code",
   "execution_count": 28,
   "id": "0dfb9ad6",
   "metadata": {},
   "outputs": [
    {
     "data": {
      "text/plain": [
       "Lloguer mitjà mensual (Euros/mes)              292\n",
       "Lloguer mitjà per superfície (Euros/m2 mes)    292\n",
       "Name: Lloguer_mitja, dtype: int64"
      ]
     },
     "execution_count": 28,
     "metadata": {},
     "output_type": "execute_result"
    }
   ],
   "source": [
    "df_preulloguer['Lloguer_mitja'].value_counts()"
   ]
  },
  {
   "cell_type": "code",
   "execution_count": 95,
   "id": "f1b0eac1",
   "metadata": {},
   "outputs": [
    {
     "data": {
      "text/html": [
       "<div>\n",
       "<style scoped>\n",
       "    .dataframe tbody tr th:only-of-type {\n",
       "        vertical-align: middle;\n",
       "    }\n",
       "\n",
       "    .dataframe tbody tr th {\n",
       "        vertical-align: top;\n",
       "    }\n",
       "\n",
       "    .dataframe thead th {\n",
       "        text-align: right;\n",
       "    }\n",
       "</style>\n",
       "<table border=\"1\" class=\"dataframe\">\n",
       "  <thead>\n",
       "    <tr style=\"text-align: right;\">\n",
       "      <th></th>\n",
       "      <th>Any</th>\n",
       "      <th>Trimestre</th>\n",
       "      <th>Codi_Districte</th>\n",
       "      <th>Nom_Districte</th>\n",
       "      <th>Codi_Barri</th>\n",
       "      <th>Nom_Barri</th>\n",
       "      <th>Lloguer_mitja</th>\n",
       "      <th>Preu</th>\n",
       "    </tr>\n",
       "  </thead>\n",
       "  <tbody>\n",
       "    <tr>\n",
       "      <th>0</th>\n",
       "      <td>2021</td>\n",
       "      <td>1</td>\n",
       "      <td>1</td>\n",
       "      <td>Ciutat Vella</td>\n",
       "      <td>1</td>\n",
       "      <td>el Raval</td>\n",
       "      <td>Lloguer mitjà mensual (Euros/mes)</td>\n",
       "      <td>759.2</td>\n",
       "    </tr>\n",
       "    <tr>\n",
       "      <th>1</th>\n",
       "      <td>2021</td>\n",
       "      <td>1</td>\n",
       "      <td>1</td>\n",
       "      <td>Ciutat Vella</td>\n",
       "      <td>2</td>\n",
       "      <td>el Barri Gòtic</td>\n",
       "      <td>Lloguer mitjà mensual (Euros/mes)</td>\n",
       "      <td>929.6</td>\n",
       "    </tr>\n",
       "    <tr>\n",
       "      <th>2</th>\n",
       "      <td>2021</td>\n",
       "      <td>1</td>\n",
       "      <td>1</td>\n",
       "      <td>Ciutat Vella</td>\n",
       "      <td>3</td>\n",
       "      <td>la Barceloneta</td>\n",
       "      <td>Lloguer mitjà mensual (Euros/mes)</td>\n",
       "      <td>808.9</td>\n",
       "    </tr>\n",
       "    <tr>\n",
       "      <th>3</th>\n",
       "      <td>2021</td>\n",
       "      <td>1</td>\n",
       "      <td>1</td>\n",
       "      <td>Ciutat Vella</td>\n",
       "      <td>4</td>\n",
       "      <td>Sant Pere, Santa Caterina i la Ribera</td>\n",
       "      <td>Lloguer mitjà mensual (Euros/mes)</td>\n",
       "      <td>879.4</td>\n",
       "    </tr>\n",
       "    <tr>\n",
       "      <th>4</th>\n",
       "      <td>2021</td>\n",
       "      <td>1</td>\n",
       "      <td>2</td>\n",
       "      <td>Eixample</td>\n",
       "      <td>5</td>\n",
       "      <td>el Fort Pienc</td>\n",
       "      <td>Lloguer mitjà mensual (Euros/mes)</td>\n",
       "      <td>918.0</td>\n",
       "    </tr>\n",
       "    <tr>\n",
       "      <th>...</th>\n",
       "      <td>...</td>\n",
       "      <td>...</td>\n",
       "      <td>...</td>\n",
       "      <td>...</td>\n",
       "      <td>...</td>\n",
       "      <td>...</td>\n",
       "      <td>...</td>\n",
       "      <td>...</td>\n",
       "    </tr>\n",
       "    <tr>\n",
       "      <th>506</th>\n",
       "      <td>2021</td>\n",
       "      <td>4</td>\n",
       "      <td>10</td>\n",
       "      <td>Sant Martí</td>\n",
       "      <td>69</td>\n",
       "      <td>Diagonal Mar i el Front Marítim del Poblenou</td>\n",
       "      <td>Lloguer mitjà mensual (Euros/mes)</td>\n",
       "      <td>1205.3</td>\n",
       "    </tr>\n",
       "    <tr>\n",
       "      <th>507</th>\n",
       "      <td>2021</td>\n",
       "      <td>4</td>\n",
       "      <td>10</td>\n",
       "      <td>Sant Martí</td>\n",
       "      <td>70</td>\n",
       "      <td>el Besòs i el Maresme</td>\n",
       "      <td>Lloguer mitjà mensual (Euros/mes)</td>\n",
       "      <td>700.5</td>\n",
       "    </tr>\n",
       "    <tr>\n",
       "      <th>508</th>\n",
       "      <td>2021</td>\n",
       "      <td>4</td>\n",
       "      <td>10</td>\n",
       "      <td>Sant Martí</td>\n",
       "      <td>71</td>\n",
       "      <td>Provençals del Poblenou</td>\n",
       "      <td>Lloguer mitjà mensual (Euros/mes)</td>\n",
       "      <td>977.8</td>\n",
       "    </tr>\n",
       "    <tr>\n",
       "      <th>509</th>\n",
       "      <td>2021</td>\n",
       "      <td>4</td>\n",
       "      <td>10</td>\n",
       "      <td>Sant Martí</td>\n",
       "      <td>72</td>\n",
       "      <td>Sant Martí de Provençals</td>\n",
       "      <td>Lloguer mitjà mensual (Euros/mes)</td>\n",
       "      <td>826.2</td>\n",
       "    </tr>\n",
       "    <tr>\n",
       "      <th>510</th>\n",
       "      <td>2021</td>\n",
       "      <td>4</td>\n",
       "      <td>10</td>\n",
       "      <td>Sant Martí</td>\n",
       "      <td>73</td>\n",
       "      <td>la Verneda i la Pau</td>\n",
       "      <td>Lloguer mitjà mensual (Euros/mes)</td>\n",
       "      <td>752.0</td>\n",
       "    </tr>\n",
       "  </tbody>\n",
       "</table>\n",
       "<p>292 rows × 8 columns</p>\n",
       "</div>"
      ],
      "text/plain": [
       "      Any  Trimestre  Codi_Districte Nom_Districte  Codi_Barri  \\\n",
       "0    2021          1               1  Ciutat Vella           1   \n",
       "1    2021          1               1  Ciutat Vella           2   \n",
       "2    2021          1               1  Ciutat Vella           3   \n",
       "3    2021          1               1  Ciutat Vella           4   \n",
       "4    2021          1               2      Eixample           5   \n",
       "..    ...        ...             ...           ...         ...   \n",
       "506  2021          4              10    Sant Martí          69   \n",
       "507  2021          4              10    Sant Martí          70   \n",
       "508  2021          4              10    Sant Martí          71   \n",
       "509  2021          4              10    Sant Martí          72   \n",
       "510  2021          4              10    Sant Martí          73   \n",
       "\n",
       "                                        Nom_Barri  \\\n",
       "0                                        el Raval   \n",
       "1                                  el Barri Gòtic   \n",
       "2                                  la Barceloneta   \n",
       "3           Sant Pere, Santa Caterina i la Ribera   \n",
       "4                                   el Fort Pienc   \n",
       "..                                            ...   \n",
       "506  Diagonal Mar i el Front Marítim del Poblenou   \n",
       "507                         el Besòs i el Maresme   \n",
       "508                       Provençals del Poblenou   \n",
       "509                      Sant Martí de Provençals   \n",
       "510                           la Verneda i la Pau   \n",
       "\n",
       "                         Lloguer_mitja    Preu  \n",
       "0    Lloguer mitjà mensual (Euros/mes)   759.2  \n",
       "1    Lloguer mitjà mensual (Euros/mes)   929.6  \n",
       "2    Lloguer mitjà mensual (Euros/mes)   808.9  \n",
       "3    Lloguer mitjà mensual (Euros/mes)   879.4  \n",
       "4    Lloguer mitjà mensual (Euros/mes)   918.0  \n",
       "..                                 ...     ...  \n",
       "506  Lloguer mitjà mensual (Euros/mes)  1205.3  \n",
       "507  Lloguer mitjà mensual (Euros/mes)   700.5  \n",
       "508  Lloguer mitjà mensual (Euros/mes)   977.8  \n",
       "509  Lloguer mitjà mensual (Euros/mes)   826.2  \n",
       "510  Lloguer mitjà mensual (Euros/mes)   752.0  \n",
       "\n",
       "[292 rows x 8 columns]"
      ]
     },
     "execution_count": 95,
     "metadata": {},
     "output_type": "execute_result"
    }
   ],
   "source": [
    "Lloguer_mensualidad = df_preulloguer.loc[df_preulloguer['Lloguer_mitja'] == 'Lloguer mitjà mensual (Euros/mes)']\n",
    "Lloguer_mensualidad"
   ]
  },
  {
   "cell_type": "code",
   "execution_count": 29,
   "id": "db8a520e",
   "metadata": {},
   "outputs": [
    {
     "data": {
      "text/plain": [
       "Nom_Barri        Lloguer_mitja                              \n",
       "Baró de Viver    Lloguer mitjà mensual (Euros/mes)               532.100\n",
       "                 Lloguer mitjà per superfície (Euros/m2 mes)       7.950\n",
       "Can Baró         Lloguer mitjà mensual (Euros/mes)               756.500\n",
       "                 Lloguer mitjà per superfície (Euros/m2 mes)      12.525\n",
       "Can Peguera      Lloguer mitjà mensual (Euros/mes)                   NaN\n",
       "                                                                  ...   \n",
       "les Corts        Lloguer mitjà per superfície (Euros/m2 mes)      14.025\n",
       "les Roquetes     Lloguer mitjà mensual (Euros/mes)               621.625\n",
       "                 Lloguer mitjà per superfície (Euros/m2 mes)      11.300\n",
       "les Tres Torres  Lloguer mitjà mensual (Euros/mes)              1542.725\n",
       "                 Lloguer mitjà per superfície (Euros/m2 mes)      15.725\n",
       "Name: Preu, Length: 146, dtype: float64"
      ]
     },
     "execution_count": 29,
     "metadata": {},
     "output_type": "execute_result"
    }
   ],
   "source": [
    "df_preulloguer.groupby(['Nom_Barri','Lloguer_mitja'])['Preu'].mean()"
   ]
  },
  {
   "cell_type": "code",
   "execution_count": 47,
   "id": "d042b527",
   "metadata": {},
   "outputs": [
    {
     "data": {
      "text/html": [
       "<div>\n",
       "<style scoped>\n",
       "    .dataframe tbody tr th:only-of-type {\n",
       "        vertical-align: middle;\n",
       "    }\n",
       "\n",
       "    .dataframe tbody tr th {\n",
       "        vertical-align: top;\n",
       "    }\n",
       "\n",
       "    .dataframe thead th {\n",
       "        text-align: right;\n",
       "    }\n",
       "</style>\n",
       "<table border=\"1\" class=\"dataframe\">\n",
       "  <thead>\n",
       "    <tr style=\"text-align: right;\">\n",
       "      <th></th>\n",
       "      <th>Any</th>\n",
       "      <th>Trimestre</th>\n",
       "      <th>Codi_Districte</th>\n",
       "      <th>Nom_Districte</th>\n",
       "      <th>Codi_Barri</th>\n",
       "      <th>Nom_Barri</th>\n",
       "      <th>Lloguer_mitja</th>\n",
       "      <th>Preu</th>\n",
       "    </tr>\n",
       "  </thead>\n",
       "  <tbody>\n",
       "    <tr>\n",
       "      <th>73</th>\n",
       "      <td>2021</td>\n",
       "      <td>1</td>\n",
       "      <td>1</td>\n",
       "      <td>Ciutat Vella</td>\n",
       "      <td>1</td>\n",
       "      <td>el Raval</td>\n",
       "      <td>Lloguer mitjà per superfície (Euros/m2 mes)</td>\n",
       "      <td>12.8</td>\n",
       "    </tr>\n",
       "    <tr>\n",
       "      <th>74</th>\n",
       "      <td>2021</td>\n",
       "      <td>1</td>\n",
       "      <td>1</td>\n",
       "      <td>Ciutat Vella</td>\n",
       "      <td>2</td>\n",
       "      <td>el Barri Gòtic</td>\n",
       "      <td>Lloguer mitjà per superfície (Euros/m2 mes)</td>\n",
       "      <td>12.3</td>\n",
       "    </tr>\n",
       "    <tr>\n",
       "      <th>75</th>\n",
       "      <td>2021</td>\n",
       "      <td>1</td>\n",
       "      <td>1</td>\n",
       "      <td>Ciutat Vella</td>\n",
       "      <td>3</td>\n",
       "      <td>la Barceloneta</td>\n",
       "      <td>Lloguer mitjà per superfície (Euros/m2 mes)</td>\n",
       "      <td>15.5</td>\n",
       "    </tr>\n",
       "    <tr>\n",
       "      <th>76</th>\n",
       "      <td>2021</td>\n",
       "      <td>1</td>\n",
       "      <td>1</td>\n",
       "      <td>Ciutat Vella</td>\n",
       "      <td>4</td>\n",
       "      <td>Sant Pere, Santa Caterina i la Ribera</td>\n",
       "      <td>Lloguer mitjà per superfície (Euros/m2 mes)</td>\n",
       "      <td>13.3</td>\n",
       "    </tr>\n",
       "    <tr>\n",
       "      <th>77</th>\n",
       "      <td>2021</td>\n",
       "      <td>1</td>\n",
       "      <td>2</td>\n",
       "      <td>Eixample</td>\n",
       "      <td>5</td>\n",
       "      <td>el Fort Pienc</td>\n",
       "      <td>Lloguer mitjà per superfície (Euros/m2 mes)</td>\n",
       "      <td>12.9</td>\n",
       "    </tr>\n",
       "    <tr>\n",
       "      <th>...</th>\n",
       "      <td>...</td>\n",
       "      <td>...</td>\n",
       "      <td>...</td>\n",
       "      <td>...</td>\n",
       "      <td>...</td>\n",
       "      <td>...</td>\n",
       "      <td>...</td>\n",
       "      <td>...</td>\n",
       "    </tr>\n",
       "    <tr>\n",
       "      <th>579</th>\n",
       "      <td>2021</td>\n",
       "      <td>4</td>\n",
       "      <td>10</td>\n",
       "      <td>Sant Martí</td>\n",
       "      <td>69</td>\n",
       "      <td>Diagonal Mar i el Front Marítim del Poblenou</td>\n",
       "      <td>Lloguer mitjà per superfície (Euros/m2 mes)</td>\n",
       "      <td>15.2</td>\n",
       "    </tr>\n",
       "    <tr>\n",
       "      <th>580</th>\n",
       "      <td>2021</td>\n",
       "      <td>4</td>\n",
       "      <td>10</td>\n",
       "      <td>Sant Martí</td>\n",
       "      <td>70</td>\n",
       "      <td>el Besòs i el Maresme</td>\n",
       "      <td>Lloguer mitjà per superfície (Euros/m2 mes)</td>\n",
       "      <td>10.8</td>\n",
       "    </tr>\n",
       "    <tr>\n",
       "      <th>581</th>\n",
       "      <td>2021</td>\n",
       "      <td>4</td>\n",
       "      <td>10</td>\n",
       "      <td>Sant Martí</td>\n",
       "      <td>71</td>\n",
       "      <td>Provençals del Poblenou</td>\n",
       "      <td>Lloguer mitjà per superfície (Euros/m2 mes)</td>\n",
       "      <td>13.8</td>\n",
       "    </tr>\n",
       "    <tr>\n",
       "      <th>582</th>\n",
       "      <td>2021</td>\n",
       "      <td>4</td>\n",
       "      <td>10</td>\n",
       "      <td>Sant Martí</td>\n",
       "      <td>72</td>\n",
       "      <td>Sant Martí de Provençals</td>\n",
       "      <td>Lloguer mitjà per superfície (Euros/m2 mes)</td>\n",
       "      <td>11.7</td>\n",
       "    </tr>\n",
       "    <tr>\n",
       "      <th>583</th>\n",
       "      <td>2021</td>\n",
       "      <td>4</td>\n",
       "      <td>10</td>\n",
       "      <td>Sant Martí</td>\n",
       "      <td>73</td>\n",
       "      <td>la Verneda i la Pau</td>\n",
       "      <td>Lloguer mitjà per superfície (Euros/m2 mes)</td>\n",
       "      <td>11.3</td>\n",
       "    </tr>\n",
       "  </tbody>\n",
       "</table>\n",
       "<p>292 rows × 8 columns</p>\n",
       "</div>"
      ],
      "text/plain": [
       "      Any  Trimestre  Codi_Districte Nom_Districte  Codi_Barri  \\\n",
       "73   2021          1               1  Ciutat Vella           1   \n",
       "74   2021          1               1  Ciutat Vella           2   \n",
       "75   2021          1               1  Ciutat Vella           3   \n",
       "76   2021          1               1  Ciutat Vella           4   \n",
       "77   2021          1               2      Eixample           5   \n",
       "..    ...        ...             ...           ...         ...   \n",
       "579  2021          4              10    Sant Martí          69   \n",
       "580  2021          4              10    Sant Martí          70   \n",
       "581  2021          4              10    Sant Martí          71   \n",
       "582  2021          4              10    Sant Martí          72   \n",
       "583  2021          4              10    Sant Martí          73   \n",
       "\n",
       "                                        Nom_Barri  \\\n",
       "73                                       el Raval   \n",
       "74                                 el Barri Gòtic   \n",
       "75                                 la Barceloneta   \n",
       "76          Sant Pere, Santa Caterina i la Ribera   \n",
       "77                                  el Fort Pienc   \n",
       "..                                            ...   \n",
       "579  Diagonal Mar i el Front Marítim del Poblenou   \n",
       "580                         el Besòs i el Maresme   \n",
       "581                       Provençals del Poblenou   \n",
       "582                      Sant Martí de Provençals   \n",
       "583                           la Verneda i la Pau   \n",
       "\n",
       "                                   Lloguer_mitja  Preu  \n",
       "73   Lloguer mitjà per superfície (Euros/m2 mes)  12.8  \n",
       "74   Lloguer mitjà per superfície (Euros/m2 mes)  12.3  \n",
       "75   Lloguer mitjà per superfície (Euros/m2 mes)  15.5  \n",
       "76   Lloguer mitjà per superfície (Euros/m2 mes)  13.3  \n",
       "77   Lloguer mitjà per superfície (Euros/m2 mes)  12.9  \n",
       "..                                           ...   ...  \n",
       "579  Lloguer mitjà per superfície (Euros/m2 mes)  15.2  \n",
       "580  Lloguer mitjà per superfície (Euros/m2 mes)  10.8  \n",
       "581  Lloguer mitjà per superfície (Euros/m2 mes)  13.8  \n",
       "582  Lloguer mitjà per superfície (Euros/m2 mes)  11.7  \n",
       "583  Lloguer mitjà per superfície (Euros/m2 mes)  11.3  \n",
       "\n",
       "[292 rows x 8 columns]"
      ]
     },
     "execution_count": 47,
     "metadata": {},
     "output_type": "execute_result"
    }
   ],
   "source": [
    "Lloguer_metros = df_preulloguer.loc[df_preulloguer['Lloguer_mitja'] == 'Lloguer mitjà per superfície (Euros/m2 mes)']\n",
    "Lloguer_metros"
   ]
  },
  {
   "cell_type": "markdown",
   "id": "2024fdb9",
   "metadata": {},
   "source": [
    "# **3º Resumen gráfico**"
   ]
  },
  {
   "cell_type": "markdown",
   "id": "3a19e764",
   "metadata": {},
   "source": [
    "### 1-Una variable categórica (Barrio o distrito)"
   ]
  },
  {
   "cell_type": "code",
   "execution_count": 170,
   "id": "d08e1c1f",
   "metadata": {},
   "outputs": [
    {
     "data": {
      "image/png": "[encoded data removed]",
      "text/plain": [
       "<Figure size 360x360 with 1 Axes>"
      ]
     },
     "metadata": {},
     "output_type": "display_data"
    }
   ],
   "source": [
    "Distritos = sns.displot(df_preulloguer, x='Nom_Districte', shrink=0.5, color='purple')\n",
    "plt.title('Distritos')\n",
    "plt.xticks(fontsize=20)\n",
    "Distritos.set_xticklabels(rotation = 90);"
   ]
  },
  {
   "cell_type": "markdown",
   "id": "996e39ad",
   "metadata": {},
   "source": [
    "**Interpretación**\n",
    "\n",
    "Observamos el número de distritos y su aparición en el dataframe, siendo el distrito de Nou Barris el que más impresiones tiene según nos muestra el gráfico de barras."
   ]
  },
  {
   "cell_type": "markdown",
   "id": "14c071c4",
   "metadata": {},
   "source": [
    "### 2-Una variable numerica (Preu)\n"
   ]
  },
  {
   "cell_type": "code",
   "execution_count": 171,
   "id": "08117f41",
   "metadata": {},
   "outputs": [
    {
     "data": {
      "image/png": "[encoded data removed]",
      "text/plain": [
       "<Figure size 360x360 with 1 Axes>"
      ]
     },
     "metadata": {},
     "output_type": "display_data"
    }
   ],
   "source": [
    "Precio = sns.displot(df_preulloguer, x='Preu', shrink=0.5, color='purple')\n",
    "plt.title('Precio')\n",
    "plt.xticks(fontsize=20)\n",
    "Precio.set_xticklabels(rotation = 60);"
   ]
  },
  {
   "cell_type": "code",
   "execution_count": 168,
   "id": "72bac7ab",
   "metadata": {},
   "outputs": [
    {
     "data": {
      "text/plain": [
       "Text(0, 0.5, 'Euros/Metros2')"
      ]
     },
     "execution_count": 168,
     "metadata": {},
     "output_type": "execute_result"
    },
    {
     "data": {
      "image/png": "[encoded data removed]",
      "text/plain": [
       "<Figure size 576x576 with 1 Axes>"
      ]
     },
     "metadata": {},
     "output_type": "display_data"
    }
   ],
   "source": [
    "plt.figure(figsize=(8,8))\n",
    "Precio_por_metros = plt.plot(Lloguer_metros['Preu'], '<')\n",
    "plt.title('Precio por metro cuadrado')\n",
    "plt.ylabel('Euros/Metros2')"
   ]
  },
  {
   "cell_type": "code",
   "execution_count": 167,
   "id": "d740d74b",
   "metadata": {},
   "outputs": [
    {
     "data": {
      "text/plain": [
       "Text(0, 0.5, 'Euros/Mes')"
      ]
     },
     "execution_count": 167,
     "metadata": {},
     "output_type": "execute_result"
    },
    {
     "data": {
      "image/png": "[encoded data removed]",
      "text/plain": [
       "<Figure size 576x576 with 1 Axes>"
      ]
     },
     "metadata": {},
     "output_type": "display_data"
    }
   ],
   "source": [
    "plt.figure(figsize=(8,8))\n",
    "Precio_mensualidad = plt.plot(Lloguer_mensualidad['Preu'], '>')\n",
    "plt.title('Mensualidad')\n",
    "plt.ylabel('Euros/Mes')"
   ]
  },
  {
   "cell_type": "markdown",
   "id": "1650ddb1",
   "metadata": {},
   "source": [
    "**Interpretación**\n",
    "\n",
    "En esta visualización nos encontramos el hadicap que dentro de la columna Preu, los registros se han tomado con dos condiciones diferentes, por lo que desglosamos en dos gráficas de dispersión diferentes para obtener el precio por metro cuadrado y la media de las mensualidades de los alquileres."
   ]
  },
  {
   "cell_type": "markdown",
   "id": "162cf84c",
   "metadata": {},
   "source": [
    "### 3-Una variable numérica y una categórica (Districte i Preu)"
   ]
  },
  {
   "cell_type": "code",
   "execution_count": 166,
   "id": "b0cbebd6",
   "metadata": {},
   "outputs": [
    {
     "data": {
      "image/png": "[encoded data removed]",
      "text/plain": [
       "<Figure size 360x864 with 1 Axes>"
      ]
     },
     "metadata": {},
     "output_type": "display_data"
    }
   ],
   "source": [
    "plt.figure(figsize=(5,12))\n",
    "Precio_por_distrito = sns.barplot(x='Preu', y='Nom_Districte', data=df_preulloguer, orient='h', palette= 'BuPu_r')\n",
    "plt.title('Precio por distrito')\n",
    "plt.show()"
   ]
  },
  {
   "cell_type": "markdown",
   "id": "1caac4c9",
   "metadata": {},
   "source": [
    "**Interpretación**\n",
    "\n",
    "Utilizamos un gráfico de barras para ver los porcentajes de precio por distrito. Se observa que es el distrito de Les Corts el que alcanza un mayor precio."
   ]
  },
  {
   "cell_type": "markdown",
   "id": "72483ee5",
   "metadata": {},
   "source": [
    "### 4-Dos variables numericas (Any o Trimestre i Preu)\n"
   ]
  },
  {
   "cell_type": "code",
   "execution_count": 165,
   "id": "647d2f9f",
   "metadata": {},
   "outputs": [
    {
     "data": {
      "image/png": "[encoded data removed]",
      "text/plain": [
       "<Figure size 864x864 with 1 Axes>"
      ]
     },
     "metadata": {},
     "output_type": "display_data"
    }
   ],
   "source": [
    "plt.figure(figsize=(12,12))\n",
    "Precio_por_trimestre = sns.boxplot(x='Trimestre', y='Preu', data=df_preulloguer, orient='v', palette= 'BuPu_r')\n",
    "plt.title('Precio por trimestre')\n",
    "plt.show()"
   ]
  },
  {
   "cell_type": "markdown",
   "id": "79886fe2",
   "metadata": {},
   "source": [
    "**Interpretación**\n",
    "\n",
    "Utilizamos un gráfico de cajas para ver la distrubición del precio a lo largo de cada trimestre, que nos permite observar que en el tercer trimestre del año se alcanza el precio más alto y aumenta la media de precio, coincidiendo con el época estival."
   ]
  },
  {
   "cell_type": "markdown",
   "id": "57aa3e51",
   "metadata": {},
   "source": [
    "### 5-Tres variables (Barri o Districte, Trimestre i Preu)"
   ]
  },
  {
   "cell_type": "markdown",
   "id": "8dee33ce",
   "metadata": {},
   "source": [
    "**Interpretación**\n",
    "\n",
    "Utilizamos un gráfico de "
   ]
  },
  {
   "cell_type": "markdown",
   "id": "c149a1d7",
   "metadata": {},
   "source": [
    "# Exercici 2\n",
    "Exporta els gràfics com imatges o com HTML."
   ]
  },
  {
   "cell_type": "code",
   "execution_count": 160,
   "id": "2caf9d6d",
   "metadata": {},
   "outputs": [
    {
     "data": {
      "text/plain": [
       "<Figure size 432x288 with 0 Axes>"
      ]
     },
     "metadata": {},
     "output_type": "display_data"
    }
   ],
   "source": [
    "plt.savefig('Distritos.jpg', bbox_inches='tight')"
   ]
  },
  {
   "cell_type": "code",
   "execution_count": 161,
   "id": "68fe84a1",
   "metadata": {},
   "outputs": [
    {
     "data": {
      "text/plain": [
       "<Figure size 432x288 with 0 Axes>"
      ]
     },
     "metadata": {},
     "output_type": "display_data"
    }
   ],
   "source": [
    "plt.savefig('Precio_por_distrito.jpg', bbox_inches='tight')"
   ]
  },
  {
   "cell_type": "code",
   "execution_count": 162,
   "id": "97ebca2c",
   "metadata": {},
   "outputs": [
    {
     "data": {
      "text/plain": [
       "<Figure size 432x288 with 0 Axes>"
      ]
     },
     "metadata": {},
     "output_type": "display_data"
    }
   ],
   "source": [
    "plt.savefig('Precio_por_metro_cuadrado.jpg', bbox_inches='tight')"
   ]
  },
  {
   "cell_type": "code",
   "execution_count": 163,
   "id": "112bc963",
   "metadata": {},
   "outputs": [
    {
     "data": {
      "text/plain": [
       "<Figure size 432x288 with 0 Axes>"
      ]
     },
     "metadata": {},
     "output_type": "display_data"
    }
   ],
   "source": [
    "plt.savefig('Precio_mensualidad.jpg', bbox_inches='tight')"
   ]
  },
  {
   "cell_type": "code",
   "execution_count": 164,
   "id": "9862fdcf",
   "metadata": {},
   "outputs": [
    {
     "data": {
      "text/plain": [
       "<Figure size 432x288 with 0 Axes>"
      ]
     },
     "metadata": {},
     "output_type": "display_data"
    }
   ],
   "source": [
    "plt.savefig('Precio_por_trimestre.jpg', bbox_inches='tight')"
   ]
  },
  {
   "cell_type": "markdown",
   "id": "7572e186",
   "metadata": {},
   "source": [
    "\n",
    "# Exercici 3\n",
    "Proposa alguna visualització que creguis que pot resultar interessant."
   ]
  }
 ],
 "metadata": {
  "kernelspec": {
   "display_name": "Python 3 (ipykernel)",
   "language": "python",
   "name": "python3"
  },
  "language_info": {
   "codemirror_mode": {
    "name": "ipython",
    "version": 3
   },
   "file_extension": ".py",
   "mimetype": "text/x-python",
   "name": "python",
   "nbconvert_exporter": "python",
   "pygments_lexer": "ipython3",
   "version": "3.9.12"
  }
 },
 "nbformat": 4,
 "nbformat_minor": 5
}
